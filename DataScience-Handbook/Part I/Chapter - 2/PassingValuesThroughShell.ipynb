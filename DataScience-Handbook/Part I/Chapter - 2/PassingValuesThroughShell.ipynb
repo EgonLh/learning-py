{
 "cells": [
  {
   "cell_type": "code",
   "execution_count": 1,
   "id": "7c3e56f1-51e2-431a-9fb1-96a88c12d067",
   "metadata": {},
   "outputs": [],
   "source": [
    "content = ! dir"
   ]
  },
  {
   "cell_type": "code",
   "execution_count": 2,
   "id": "53478131-519a-472f-8e96-f43576f2ec03",
   "metadata": {},
   "outputs": [
    {
     "name": "stdout",
     "output_type": "stream",
     "text": [
      "[' Volume in drive C has no label.', ' Volume Serial Number is FE38-597A', '', ' Directory of C:\\\\Users\\\\egonh\\\\Desktop\\\\WorkSpace\\\\MLOps\\\\Specialization\\\\Python\\\\Learn Py\\\\Learning_py\\\\DataScience-Handbook\\\\Chapter - 2', '', '02/10/25  08:16 AM    <DIR>          .', '02/10/25  08:07 AM    <DIR>          ..', '02/10/25  08:07 AM    <DIR>          .ipynb_checkpoints', '02/01/25  08:41 AM             1,719 magic_cmd.py', '02/10/25  08:16 AM             1,948 PassingValuesThroughShell.ipynb', '02/01/25  08:26 AM               173 showLog.py', '               3 File(s)          3,840 bytes', '               3 Dir(s)  337,075,974,144 bytes free']\n"
     ]
    }
   ],
   "source": [
    "print(content)"
   ]
  },
  {
   "cell_type": "code",
   "execution_count": 5,
   "id": "98745f69-8545-436a-91a8-320dee774952",
   "metadata": {},
   "outputs": [],
   "source": [
    "currentDir = !echo %cd%"
   ]
  },
  {
   "cell_type": "code",
   "execution_count": 6,
   "id": "bb10f10a-89c8-4383-bc28-7bbf5bcf697a",
   "metadata": {},
   "outputs": [
    {
     "name": "stdout",
     "output_type": "stream",
     "text": [
      "['C:\\\\Users\\\\egonh\\\\Desktop\\\\WorkSpace\\\\MLOps\\\\Specialization\\\\Python\\\\Learn Py\\\\Learning_py\\\\DataScience-Handbook\\\\Chapter - 2']\n"
     ]
    }
   ],
   "source": [
    "print(currentDir)"
   ]
  },
  {
   "cell_type": "code",
   "execution_count": 8,
   "id": "8a06a797-648d-48c8-80f9-80a0b832dc4a",
   "metadata": {},
   "outputs": [
    {
     "name": "stdout",
     "output_type": "stream",
     "text": [
      "Hello Jupyter\n"
     ]
    }
   ],
   "source": [
    "message = \"Hello Jupyter\";\n",
    "!echo {message}"
   ]
  },
  {
   "cell_type": "code",
   "execution_count": 1,
   "id": "4c1a89d7-9b34-484b-99f9-b899266ec702",
   "metadata": {},
   "outputs": [],
   "source": [
    "cur_dir = !cd .."
   ]
  },
  {
   "cell_type": "code",
   "execution_count": 2,
   "id": "00f3123c-1f30-4241-a5a1-b3e7d6e92621",
   "metadata": {},
   "outputs": [
    {
     "name": "stdout",
     "output_type": "stream",
     "text": [
      "C:\\Users\\egonh\\Desktop\\WorkSpace\\MLOps\\Specialization\\Python\\Learn Py\\Learning_py\\DataScience-Handbook\n"
     ]
    },
    {
     "name": "stderr",
     "output_type": "stream",
     "text": [
      "C:\\Users\\egonh\\.conda\\envs\\dshandbook\\lib\\site-packages\\IPython\\core\\magics\\osm.py:417: UserWarning: using dhist requires you to install the `pickleshare` library.\n",
      "  self.shell.db['dhist'] = compress_dhist(dhist)[-100:]\n"
     ]
    }
   ],
   "source": [
    "dir_ = %cd .."
   ]
  },
  {
   "cell_type": "code",
   "execution_count": 18,
   "id": "2caf32fb-573e-4255-9a8a-2250fe9d2460",
   "metadata": {},
   "outputs": [
    {
     "name": "stdout",
     "output_type": "stream",
     "text": [
      "C:\\Users\\egonh\\Desktop\\WorkSpace\\MLOps\\Specialization\\Python\\Learn Py\\Learning_py\\DataScience-Handbook\n"
     ]
    }
   ],
   "source": [
    "%cd .."
   ]
  },
  {
   "cell_type": "code",
   "execution_count": 20,
   "id": "ef877fac-ef0f-4d6d-b819-431c6e59537c",
   "metadata": {},
   "outputs": [
    {
     "name": "stdout",
     "output_type": "stream",
     "text": [
      "C:\\Users\\egonh\\Desktop\\WorkSpace\\MLOps\\Specialization\\Python\\Learn Py\\Learning_py\\DataScience-Handbook\\Chapter - 1\n"
     ]
    }
   ],
   "source": [
    "cd Chapter - 1"
   ]
  },
  {
   "cell_type": "code",
   "execution_count": 21,
   "id": "2cbac519-8b98-45c1-927c-2d6dc3a35c62",
   "metadata": {},
   "outputs": [
    {
     "name": "stdout",
     "output_type": "stream",
     "text": [
      " Volume in drive C has no label.\n",
      " Volume Serial Number is FE38-597A\n",
      "\n",
      " Directory of C:\\Users\\egonh\\Desktop\\WorkSpace\\MLOps\\Specialization\\Python\\Learn Py\\Learning_py\\DataScience-Handbook\\Chapter - 1\n",
      "\n",
      "02/10/25  08:06 AM    <DIR>          .\n",
      "02/10/25  08:07 AM    <DIR>          ..\n",
      "02/04/25  11:46 AM                23 -.py\n",
      "02/10/25  08:06 AM    <DIR>          .ipynb_checkpoints\n",
      "01/20/25  09:16 AM             1,727 basic.py\n",
      "02/04/25  11:48 AM            14,030 in-out-2.ipynb\n",
      "02/04/25  11:26 AM            12,765 in-out.ipynb\n",
      "               4 File(s)         28,545 bytes\n",
      "               3 Dir(s)  337,079,771,136 bytes free\n"
     ]
    }
   ],
   "source": [
    "! dir"
   ]
  },
  {
   "cell_type": "code",
   "execution_count": 22,
   "id": "ac3f23a9-56aa-4be9-bfd5-5832afe2371d",
   "metadata": {},
   "outputs": [
    {
     "name": "stdout",
     "output_type": "stream",
     "text": [
      " Volume in drive C has no label.\n",
      " Volume Serial Number is FE38-597A\n",
      "\n",
      " Directory of C:\\Users\\egonh\\Desktop\\WorkSpace\\MLOps\\Specialization\\Python\\Learn Py\\Learning_py\\DataScience-Handbook\\Chapter - 1\n",
      "\n",
      "02/10/25  08:06 AM    <DIR>          .\n",
      "02/10/25  08:07 AM    <DIR>          ..\n",
      "02/10/25  08:06 AM    <DIR>          .ipynb_checkpoints\n",
      "02/04/25  11:46 AM                23 -.py\n",
      "01/20/25  09:16 AM             1,727 basic.py\n",
      "02/04/25  11:26 AM            12,765 in-out.ipynb\n",
      "02/04/25  11:48 AM            14,030 in-out-2.ipynb\n",
      "               4 File(s)         28,545 bytes\n",
      "               3 Dir(s)  337,079,357,440 bytes free\n"
     ]
    }
   ],
   "source": [
    "ls"
   ]
  }
 ],
 "metadata": {
  "kernelspec": {
   "display_name": "Python 3 (ipykernel)",
   "language": "python",
   "name": "python3"
  },
  "language_info": {
   "codemirror_mode": {
    "name": "ipython",
    "version": 3
   },
   "file_extension": ".py",
   "mimetype": "text/x-python",
   "name": "python",
   "nbconvert_exporter": "python",
   "pygments_lexer": "ipython3",
   "version": "3.9.21"
  }
 },
 "nbformat": 4,
 "nbformat_minor": 5
}
