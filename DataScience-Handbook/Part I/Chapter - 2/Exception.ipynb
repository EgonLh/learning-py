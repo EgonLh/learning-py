{
 "cells": [
  {
   "cell_type": "code",
   "execution_count": 4,
   "id": "a5556844-cd72-4b24-a352-72bf6ebe4570",
   "metadata": {},
   "outputs": [
    {
     "data": {
      "text/plain": [
       "\u001b[1;31mSource:\u001b[0m\n",
       "    \u001b[1;33m@\u001b[0m\u001b[0mline_magic\u001b[0m\u001b[1;33m\n",
       "\u001b[0m    \u001b[1;32mdef\u001b[0m \u001b[0mxmode\u001b[0m\u001b[1;33m(\u001b[0m\u001b[0mself\u001b[0m\u001b[1;33m,\u001b[0m \u001b[0mparameter_s\u001b[0m\u001b[1;33m=\u001b[0m\u001b[1;34m''\u001b[0m\u001b[1;33m)\u001b[0m\u001b[1;33m:\u001b[0m\u001b[1;33m\n",
       "\u001b[0m        \u001b[1;34m\"\"\"Switch modes for the exception handlers.\n",
       "\n",
       "        Valid modes: Plain, Context, Verbose, and Minimal.\n",
       "\n",
       "        If called without arguments, acts as a toggle.\n",
       "\n",
       "        When in verbose mode the value `--show` (and `--hide`)\n",
       "        will respectively show (or hide) frames with ``__tracebackhide__ =\n",
       "        True`` value set.\n",
       "        \"\"\"\u001b[0m\u001b[1;33m\n",
       "\u001b[0m\u001b[1;33m\n",
       "\u001b[0m        \u001b[1;32mdef\u001b[0m \u001b[0mxmode_switch_err\u001b[0m\u001b[1;33m(\u001b[0m\u001b[0mname\u001b[0m\u001b[1;33m)\u001b[0m\u001b[1;33m:\u001b[0m\u001b[1;33m\n",
       "\u001b[0m            \u001b[0mwarn\u001b[0m\u001b[1;33m(\u001b[0m\u001b[1;34m'Error changing %s exception modes.\\n%s'\u001b[0m \u001b[1;33m%\u001b[0m\u001b[1;33m\n",
       "\u001b[0m                 \u001b[1;33m(\u001b[0m\u001b[0mname\u001b[0m\u001b[1;33m,\u001b[0m\u001b[0msys\u001b[0m\u001b[1;33m.\u001b[0m\u001b[0mexc_info\u001b[0m\u001b[1;33m(\u001b[0m\u001b[1;33m)\u001b[0m\u001b[1;33m[\u001b[0m\u001b[1;36m1\u001b[0m\u001b[1;33m]\u001b[0m\u001b[1;33m)\u001b[0m\u001b[1;33m)\u001b[0m\u001b[1;33m\n",
       "\u001b[0m\u001b[1;33m\n",
       "\u001b[0m        \u001b[0mshell\u001b[0m \u001b[1;33m=\u001b[0m \u001b[0mself\u001b[0m\u001b[1;33m.\u001b[0m\u001b[0mshell\u001b[0m\u001b[1;33m\n",
       "\u001b[0m        \u001b[1;32mif\u001b[0m \u001b[0mparameter_s\u001b[0m\u001b[1;33m.\u001b[0m\u001b[0mstrip\u001b[0m\u001b[1;33m(\u001b[0m\u001b[1;33m)\u001b[0m \u001b[1;33m==\u001b[0m \u001b[1;34m\"--show\"\u001b[0m\u001b[1;33m:\u001b[0m\u001b[1;33m\n",
       "\u001b[0m            \u001b[0mshell\u001b[0m\u001b[1;33m.\u001b[0m\u001b[0mInteractiveTB\u001b[0m\u001b[1;33m.\u001b[0m\u001b[0mskip_hidden\u001b[0m \u001b[1;33m=\u001b[0m \u001b[1;32mFalse\u001b[0m\u001b[1;33m\n",
       "\u001b[0m            \u001b[1;32mreturn\u001b[0m\u001b[1;33m\n",
       "\u001b[0m        \u001b[1;32mif\u001b[0m \u001b[0mparameter_s\u001b[0m\u001b[1;33m.\u001b[0m\u001b[0mstrip\u001b[0m\u001b[1;33m(\u001b[0m\u001b[1;33m)\u001b[0m \u001b[1;33m==\u001b[0m \u001b[1;34m\"--hide\"\u001b[0m\u001b[1;33m:\u001b[0m\u001b[1;33m\n",
       "\u001b[0m            \u001b[0mshell\u001b[0m\u001b[1;33m.\u001b[0m\u001b[0mInteractiveTB\u001b[0m\u001b[1;33m.\u001b[0m\u001b[0mskip_hidden\u001b[0m \u001b[1;33m=\u001b[0m \u001b[1;32mTrue\u001b[0m\u001b[1;33m\n",
       "\u001b[0m            \u001b[1;32mreturn\u001b[0m\u001b[1;33m\n",
       "\u001b[0m\u001b[1;33m\n",
       "\u001b[0m        \u001b[0mnew_mode\u001b[0m \u001b[1;33m=\u001b[0m \u001b[0mparameter_s\u001b[0m\u001b[1;33m.\u001b[0m\u001b[0mstrip\u001b[0m\u001b[1;33m(\u001b[0m\u001b[1;33m)\u001b[0m\u001b[1;33m.\u001b[0m\u001b[0mcapitalize\u001b[0m\u001b[1;33m(\u001b[0m\u001b[1;33m)\u001b[0m\u001b[1;33m\n",
       "\u001b[0m        \u001b[1;32mtry\u001b[0m\u001b[1;33m:\u001b[0m\u001b[1;33m\n",
       "\u001b[0m            \u001b[0mshell\u001b[0m\u001b[1;33m.\u001b[0m\u001b[0mInteractiveTB\u001b[0m\u001b[1;33m.\u001b[0m\u001b[0mset_mode\u001b[0m\u001b[1;33m(\u001b[0m\u001b[0mmode\u001b[0m\u001b[1;33m=\u001b[0m\u001b[0mnew_mode\u001b[0m\u001b[1;33m)\u001b[0m\u001b[1;33m\n",
       "\u001b[0m            \u001b[0mprint\u001b[0m\u001b[1;33m(\u001b[0m\u001b[1;34m'Exception reporting mode:'\u001b[0m\u001b[1;33m,\u001b[0m\u001b[0mshell\u001b[0m\u001b[1;33m.\u001b[0m\u001b[0mInteractiveTB\u001b[0m\u001b[1;33m.\u001b[0m\u001b[0mmode\u001b[0m\u001b[1;33m)\u001b[0m\u001b[1;33m\n",
       "\u001b[0m        \u001b[1;32mexcept\u001b[0m\u001b[1;33m:\u001b[0m\u001b[1;33m\n",
       "\u001b[0m            \u001b[0mxmode_switch_err\u001b[0m\u001b[1;33m(\u001b[0m\u001b[1;34m'user'\u001b[0m\u001b[1;33m)\u001b[0m\u001b[1;33m\u001b[0m\u001b[1;33m\u001b[0m\u001b[0m\n",
       "\u001b[1;31mFile:\u001b[0m   c:\\users\\egonh\\.conda\\envs\\dshandbook\\lib\\site-packages\\ipython\\core\\magics\\basic.py"
      ]
     },
     "metadata": {},
     "output_type": "display_data"
    }
   ],
   "source": [
    "# Exception\n",
    "\n",
    "%xmode??"
   ]
  },
  {
   "cell_type": "code",
   "execution_count": 5,
   "id": "addd6bc8-67ac-4836-b025-a091bbdd6c91",
   "metadata": {},
   "outputs": [],
   "source": [
    "def func(a,b):\n",
    "    print (a/b);"
   ]
  },
  {
   "cell_type": "code",
   "execution_count": 6,
   "id": "baefc7a5-702d-4c46-85ae-41597ab609a2",
   "metadata": {},
   "outputs": [
    {
     "name": "stdout",
     "output_type": "stream",
     "text": [
      "0.5\n"
     ]
    }
   ],
   "source": [
    "func(2,4);"
   ]
  },
  {
   "cell_type": "code",
   "execution_count": 7,
   "id": "d329902e-fea1-4ddc-b666-0b1e786742f3",
   "metadata": {},
   "outputs": [
    {
     "ename": "ZeroDivisionError",
     "evalue": "division by zero",
     "output_type": "error",
     "traceback": [
      "\u001b[1;31m---------------------------------------------------------------------------\u001b[0m",
      "\u001b[1;31mZeroDivisionError\u001b[0m                         Traceback (most recent call last)",
      "Cell \u001b[1;32mIn[7], line 1\u001b[0m\n\u001b[1;32m----> 1\u001b[0m \u001b[43mfunc\u001b[49m\u001b[43m(\u001b[49m\u001b[38;5;241;43m1\u001b[39;49m\u001b[43m,\u001b[49m\u001b[38;5;241;43m0\u001b[39;49m\u001b[43m)\u001b[49m\n",
      "Cell \u001b[1;32mIn[5], line 2\u001b[0m, in \u001b[0;36mfunc\u001b[1;34m(a, b)\u001b[0m\n\u001b[0;32m      1\u001b[0m \u001b[38;5;28;01mdef\u001b[39;00m\u001b[38;5;250m \u001b[39m\u001b[38;5;21mfunc\u001b[39m(a,b):\n\u001b[1;32m----> 2\u001b[0m     \u001b[38;5;28mprint\u001b[39m (\u001b[43ma\u001b[49m\u001b[38;5;241;43m/\u001b[39;49m\u001b[43mb\u001b[49m)\n",
      "\u001b[1;31mZeroDivisionError\u001b[0m: division by zero"
     ]
    }
   ],
   "source": [
    "func(1,0)"
   ]
  },
  {
   "cell_type": "code",
   "execution_count": 14,
   "id": "1e70022f-e1a7-477a-9f2e-b8b9659218f7",
   "metadata": {},
   "outputs": [
    {
     "name": "stdout",
     "output_type": "stream",
     "text": [
      "Exception reporting mode: Verbose\n"
     ]
    }
   ],
   "source": [
    "%xmode Verbose"
   ]
  },
  {
   "cell_type": "code",
   "execution_count": 15,
   "id": "3275b664-a864-44cf-a284-bd087340e5cf",
   "metadata": {},
   "outputs": [
    {
     "ename": "ZeroDivisionError",
     "evalue": "division by zero",
     "output_type": "error",
     "traceback": [
      "\u001b[1;31m---------------------------------------------------------------------------\u001b[0m",
      "\u001b[1;31mZeroDivisionError\u001b[0m                         Traceback (most recent call last)",
      "Cell \u001b[1;32mIn[15], line 1\u001b[0m\n\u001b[1;32m----> 1\u001b[0m \u001b[43mfunc\u001b[49m\u001b[43m(\u001b[49m\u001b[38;5;241;43m1\u001b[39;49m\u001b[43m,\u001b[49m\u001b[38;5;241;43m0\u001b[39;49m\u001b[43m)\u001b[49m\n",
      "Cell \u001b[1;32mIn[5], line 2\u001b[0m, in \u001b[0;36mfunc\u001b[1;34m(a=1, b=0)\u001b[0m\n\u001b[0;32m      1\u001b[0m \u001b[38;5;28;01mdef\u001b[39;00m\u001b[38;5;250m \u001b[39m\u001b[38;5;21mfunc\u001b[39m(a,b):\n\u001b[1;32m----> 2\u001b[0m     \u001b[38;5;28mprint\u001b[39m (\u001b[43ma\u001b[49m\u001b[38;5;241;43m/\u001b[39;49m\u001b[43mb\u001b[49m)\n        a \u001b[1;34m= 1\u001b[0m\u001b[1;34m\n        \u001b[0mb \u001b[1;34m= 0\u001b[0m\n",
      "\u001b[1;31mZeroDivisionError\u001b[0m: division by zero"
     ]
    }
   ],
   "source": [
    "func(1,0)"
   ]
  },
  {
   "cell_type": "code",
   "execution_count": 17,
   "id": "679203c9-36f5-4e30-b9ee-565090af5436",
   "metadata": {},
   "outputs": [
    {
     "name": "stdout",
     "output_type": "stream",
     "text": [
      "Exception reporting mode: Plain\n"
     ]
    }
   ],
   "source": [
    "%xmode Plain"
   ]
  },
  {
   "cell_type": "code",
   "execution_count": 18,
   "id": "d8df87a6-818f-472e-a847-c7fd20769918",
   "metadata": {},
   "outputs": [
    {
     "ename": "ZeroDivisionError",
     "evalue": "division by zero",
     "output_type": "error",
     "traceback": [
      "Traceback \u001b[1;36m(most recent call last)\u001b[0m:\n",
      "\u001b[0m  Cell \u001b[0;32mIn[18], line 1\u001b[0m\n    func(1,0)\u001b[0m\n",
      "\u001b[1;36m  Cell \u001b[1;32mIn[5], line 2\u001b[1;36m in \u001b[1;35mfunc\u001b[1;36m\n\u001b[1;33m    print (a/b);\u001b[1;36m\n",
      "\u001b[1;31mZeroDivisionError\u001b[0m\u001b[1;31m:\u001b[0m division by zero\n"
     ]
    }
   ],
   "source": [
    "func(1,0)"
   ]
  },
  {
   "cell_type": "code",
   "execution_count": 19,
   "id": "f490a0f4-5d2d-4269-accd-2fa1bbe45cfd",
   "metadata": {},
   "outputs": [
    {
     "name": "stdout",
     "output_type": "stream",
     "text": [
      "Exception reporting mode: Context\n"
     ]
    }
   ],
   "source": [
    "%xmode Context"
   ]
  },
  {
   "cell_type": "code",
   "execution_count": 21,
   "id": "a72ee82f-c0cf-400e-883e-5ad8d3021978",
   "metadata": {
    "scrolled": true
   },
   "outputs": [
    {
     "ename": "ZeroDivisionError",
     "evalue": "division by zero",
     "output_type": "error",
     "traceback": [
      "\u001b[1;31m---------------------------------------------------------------------------\u001b[0m",
      "\u001b[1;31mZeroDivisionError\u001b[0m                         Traceback (most recent call last)",
      "Cell \u001b[1;32mIn[21], line 1\u001b[0m\n\u001b[1;32m----> 1\u001b[0m \u001b[43mfunc\u001b[49m\u001b[43m(\u001b[49m\u001b[38;5;241;43m1\u001b[39;49m\u001b[43m,\u001b[49m\u001b[38;5;241;43m0\u001b[39;49m\u001b[43m)\u001b[49m\n",
      "Cell \u001b[1;32mIn[5], line 2\u001b[0m, in \u001b[0;36mfunc\u001b[1;34m(a, b)\u001b[0m\n\u001b[0;32m      1\u001b[0m \u001b[38;5;28;01mdef\u001b[39;00m\u001b[38;5;250m \u001b[39m\u001b[38;5;21mfunc\u001b[39m(a,b):\n\u001b[1;32m----> 2\u001b[0m     \u001b[38;5;28mprint\u001b[39m (\u001b[43ma\u001b[49m\u001b[38;5;241;43m/\u001b[39;49m\u001b[43mb\u001b[49m)\n",
      "\u001b[1;31mZeroDivisionError\u001b[0m: division by zero"
     ]
    }
   ],
   "source": [
    "func(1,0)"
   ]
  },
  {
   "cell_type": "code",
   "execution_count": 23,
   "id": "b44c09f0-2df3-4af1-8c9f-5b7ceed4a358",
   "metadata": {},
   "outputs": [
    {
     "ename": "ZeroDivisionError",
     "evalue": "division by zero",
     "output_type": "error",
     "traceback": [
      "\u001b[1;31m---------------------------------------------------------------------------\u001b[0m",
      "\u001b[1;31mZeroDivisionError\u001b[0m                         Traceback (most recent call last)",
      "Cell \u001b[1;32mIn[23], line 1\u001b[0m\n\u001b[1;32m----> 1\u001b[0m \u001b[43mfunc\u001b[49m\u001b[43m(\u001b[49m\u001b[38;5;241;43m1\u001b[39;49m\u001b[43m,\u001b[49m\u001b[38;5;241;43m0\u001b[39;49m\u001b[43m)\u001b[49m\n",
      "Cell \u001b[1;32mIn[5], line 2\u001b[0m, in \u001b[0;36mfunc\u001b[1;34m(a, b)\u001b[0m\n\u001b[0;32m      1\u001b[0m \u001b[38;5;28;01mdef\u001b[39;00m\u001b[38;5;250m \u001b[39m\u001b[38;5;21mfunc\u001b[39m(a,b):\n\u001b[1;32m----> 2\u001b[0m     \u001b[38;5;28mprint\u001b[39m (\u001b[43ma\u001b[49m\u001b[38;5;241;43m/\u001b[39;49m\u001b[43mb\u001b[49m)\n",
      "\u001b[1;31mZeroDivisionError\u001b[0m: division by zero"
     ]
    }
   ],
   "source": [
    "func(1,0)"
   ]
  },
  {
   "cell_type": "code",
   "execution_count": 24,
   "id": "1c5cafa1-4439-4e75-9b49-88740c422aa2",
   "metadata": {},
   "outputs": [
    {
     "name": "stdout",
     "output_type": "stream",
     "text": [
      "> \u001b[1;32mc:\\users\\egonh\\appdata\\local\\temp\\ipykernel_3136\\1564778541.py\u001b[0m(2)\u001b[0;36mfunc\u001b[1;34m()\u001b[0m\n",
      "\n"
     ]
    },
    {
     "name": "stdin",
     "output_type": "stream",
     "text": [
      "ipdb>  func(1,0)\n"
     ]
    },
    {
     "name": "stdout",
     "output_type": "stream",
     "text": [
      "*** ZeroDivisionError: division by zero\n"
     ]
    },
    {
     "name": "stdin",
     "output_type": "stream",
     "text": [
      "ipdb>  print(a)\n"
     ]
    },
    {
     "name": "stdout",
     "output_type": "stream",
     "text": [
      "1\n"
     ]
    },
    {
     "name": "stdin",
     "output_type": "stream",
     "text": [
      "ipdb>  print(b)\n"
     ]
    },
    {
     "name": "stdout",
     "output_type": "stream",
     "text": [
      "0\n"
     ]
    },
    {
     "name": "stdin",
     "output_type": "stream",
     "text": [
      "ipdb>  quit\n"
     ]
    }
   ],
   "source": [
    "%debug"
   ]
  },
  {
   "cell_type": "code",
   "execution_count": 27,
   "id": "822a0e94-02b1-4192-887a-4264ba611b49",
   "metadata": {},
   "outputs": [
    {
     "name": "stdout",
     "output_type": "stream",
     "text": [
      "NOTE: Enter 'c' at the ipdb>  prompt to continue execution.\n",
      "> \u001b[1;32m<string>\u001b[0m(1)\u001b[0;36m<module>\u001b[1;34m()\u001b[0m\n",
      "\n"
     ]
    },
    {
     "name": "stdin",
     "output_type": "stream",
     "text": [
      "ipdb>  c\n"
     ]
    },
    {
     "name": "stdout",
     "output_type": "stream",
     "text": [
      "\u001b[1;31m---------------------------------------------------------------------------\u001b[0m\n",
      "\u001b[1;31mZeroDivisionError\u001b[0m                         Traceback (most recent call last)\n",
      "Cell \u001b[1;32mIn[5], line 2\u001b[0m, in \u001b[0;36mfunc\u001b[1;34m(a, b)\u001b[0m\n",
      "\u001b[0;32m      1\u001b[0m \u001b[38;5;28;01mdef\u001b[39;00m\u001b[38;5;250m \u001b[39m\u001b[38;5;21mfunc\u001b[39m(a,b):\n",
      "\u001b[1;32m----> 2\u001b[0m     \u001b[38;5;28mprint\u001b[39m (\u001b[43ma\u001b[49m\u001b[38;5;241;43m/\u001b[39;49m\u001b[43mb\u001b[49m)\n",
      "\n",
      "\u001b[1;31mZeroDivisionError\u001b[0m: division by zero\n"
     ]
    }
   ],
   "source": [
    "%debug func(1,0)"
   ]
  },
  {
   "cell_type": "code",
   "execution_count": 30,
   "id": "5c6826e0-ef81-45d9-b393-a59a5ce0c626",
   "metadata": {},
   "outputs": [
    {
     "name": "stdout",
     "output_type": "stream",
     "text": [
      "Exception reporting mode: Plain\n",
      "Automatic pdb calling has been turned ON\n"
     ]
    },
    {
     "ename": "ZeroDivisionError",
     "evalue": "division by zero",
     "output_type": "error",
     "traceback": [
      "Traceback \u001b[1;36m(most recent call last)\u001b[0m:\n",
      "\u001b[0m  Cell \u001b[0;32mIn[30], line 3\u001b[0m\n    func(4,0)\u001b[0m\n",
      "\u001b[1;36m  Cell \u001b[1;32mIn[5], line 2\u001b[1;36m in \u001b[1;35mfunc\u001b[1;36m\n\u001b[1;33m    print (a/b);\u001b[1;36m\n",
      "\u001b[1;31mZeroDivisionError\u001b[0m\u001b[1;31m:\u001b[0m division by zero\n"
     ]
    },
    {
     "name": "stdout",
     "output_type": "stream",
     "text": [
      "> \u001b[1;32mc:\\users\\egonh\\appdata\\local\\temp\\ipykernel_3136\\1564778541.py\u001b[0m(2)\u001b[0;36mfunc\u001b[1;34m()\u001b[0m\n",
      "\n"
     ]
    },
    {
     "name": "stdin",
     "output_type": "stream",
     "text": [
      "ipdb>  print(a)\n"
     ]
    },
    {
     "name": "stdout",
     "output_type": "stream",
     "text": [
      "4\n"
     ]
    },
    {
     "name": "stdin",
     "output_type": "stream",
     "text": [
      "ipdb>  print(b)\n"
     ]
    },
    {
     "name": "stdout",
     "output_type": "stream",
     "text": [
      "0\n"
     ]
    },
    {
     "name": "stdin",
     "output_type": "stream",
     "text": [
      "ipdb>  func(1,0)\n"
     ]
    },
    {
     "name": "stdout",
     "output_type": "stream",
     "text": [
      "*** ZeroDivisionError: division by zero\n"
     ]
    },
    {
     "name": "stdin",
     "output_type": "stream",
     "text": [
      "ipdb>  cls\n"
     ]
    },
    {
     "name": "stdout",
     "output_type": "stream",
     "text": [
      "*** NameError: name 'cls' is not defined\n"
     ]
    },
    {
     "name": "stdin",
     "output_type": "stream",
     "text": [
      "ipdb>  exit\n"
     ]
    }
   ],
   "source": [
    "%xmode Plain\n",
    "%pdb on\n",
    "func(4,0)"
   ]
  },
  {
   "cell_type": "code",
   "execution_count": 31,
   "id": "6936a715-83a1-4a76-a611-d5d93032baf9",
   "metadata": {},
   "outputs": [
    {
     "name": "stdout",
     "output_type": "stream",
     "text": [
      "1\n"
     ]
    }
   ],
   "source": [
    "def showLog (a):\n",
    "    print(a);\n",
    "\n",
    "showLog(1)"
   ]
  },
  {
   "cell_type": "code",
   "execution_count": 32,
   "id": "c5c5c316-a7ef-426d-aa03-8d87c0797b0b",
   "metadata": {},
   "outputs": [
    {
     "name": "stdout",
     "output_type": "stream",
     "text": [
      "1\n",
      "CPU times: total: 0 ns\n",
      "Wall time: 1.11 ms\n"
     ]
    }
   ],
   "source": [
    "%time showLog(1)"
   ]
  },
  {
   "cell_type": "code",
   "execution_count": 40,
   "id": "0af084e5-3b05-48af-8ce6-b8c292c9dbd5",
   "metadata": {},
   "outputs": [
    {
     "name": "stdout",
     "output_type": "stream",
     "text": [
      "2\n",
      "2\n",
      "The slowest run took 147.66 times longer than the fastest. This could mean that an intermediate result is being cached.\n",
      "632 µs ± 623 µs per loop (mean ± std. dev. of 2 runs, 1 loop each)\n"
     ]
    }
   ],
   "source": [
    "%timeit -n1 -r2 showLog(2)"
   ]
  },
  {
   "cell_type": "code",
   "execution_count": 41,
   "id": "7412d083-b676-4467-a866-8edfa089168e",
   "metadata": {},
   "outputs": [
    {
     "name": "stdout",
     "output_type": "stream",
     "text": [
      "2\n",
      " "
     ]
    },
    {
     "data": {
      "text/plain": [
       "         36 function calls in 0.002 seconds\n",
       "\n",
       "   Ordered by: internal time\n",
       "\n",
       "   ncalls  tottime  percall  cumtime  percall filename:lineno(function)\n",
       "        2    0.001    0.000    0.001    0.000 iostream.py:505(parent_header)\n",
       "        1    0.000    0.000    0.000    0.000 socket.py:626(send)\n",
       "        1    0.000    0.000    0.002    0.002 {built-in method builtins.exec}\n",
       "        2    0.000    0.000    0.001    0.001 iostream.py:655(write)\n",
       "        1    0.000    0.000    0.001    0.001 iostream.py:259(schedule)\n",
       "        1    0.000    0.000    0.001    0.001 {built-in method builtins.print}\n",
       "        2    0.000    0.000    0.001    0.000 iostream.py:577(_schedule_flush)\n",
       "        2    0.000    0.000    0.000    0.000 iostream.py:550(_is_master_process)\n",
       "        1    0.000    0.000    0.001    0.001 2773601515.py:1(showLog)\n",
       "        1    0.000    0.000    0.000    0.000 threading.py:1133(is_alive)\n",
       "        1    0.000    0.000    0.000    0.000 iostream.py:138(_event_pipe)\n",
       "        1    0.000    0.000    0.001    0.001 <string>:1(<module>)\n",
       "        1    0.000    0.000    0.000    0.000 {method 'acquire' of '_thread.lock' objects}\n",
       "        2    0.000    0.000    0.000    0.000 {method 'get' of 'ContextVar' objects}\n",
       "        1    0.000    0.000    0.000    0.000 threading.py:1066(_wait_for_tstate_lock)\n",
       "        2    0.000    0.000    0.000    0.000 {built-in method nt.getpid}\n",
       "        1    0.000    0.000    0.000    0.000 tz.py:74(utcoffset)\n",
       "        2    0.000    0.000    0.000    0.000 {method 'write' of '_io.StringIO' objects}\n",
       "        2    0.000    0.000    0.000    0.000 {method 'items' of 'dict' objects}\n",
       "        2    0.000    0.000    0.000    0.000 {method '__exit__' of '_thread.RLock' objects}\n",
       "        2    0.000    0.000    0.000    0.000 {built-in method builtins.isinstance}\n",
       "        2    0.000    0.000    0.000    0.000 {built-in method builtins.len}\n",
       "        1    0.000    0.000    0.000    0.000 threading.py:536(is_set)\n",
       "        1    0.000    0.000    0.000    0.000 {method 'disable' of '_lsprof.Profiler' objects}\n",
       "        1    0.000    0.000    0.000    0.000 {method 'append' of 'collections.deque' objects}"
      ]
     },
     "metadata": {},
     "output_type": "display_data"
    }
   ],
   "source": [
    "%prun showLog(2)"
   ]
  },
  {
   "cell_type": "code",
   "execution_count": 56,
   "id": "86af44f1-26ec-4c09-9051-01f91e05115b",
   "metadata": {},
   "outputs": [],
   "source": [
    "def showData(a,b):\n",
    "    for a in range(a,b): ## start from a\n",
    "        print(\"Data\",a)"
   ]
  },
  {
   "cell_type": "code",
   "execution_count": 59,
   "id": "129ec80e-c7cd-44ab-9696-8b36a32287a4",
   "metadata": {},
   "outputs": [
    {
     "name": "stdout",
     "output_type": "stream",
     "text": [
      "Data 2\n",
      "Data 3\n",
      "Data 4\n",
      "Data 5\n",
      "Data 6\n",
      "Data 7\n",
      "Data 8\n",
      "Data 9\n",
      " "
     ]
    },
    {
     "data": {
      "text/plain": [
       "         373 function calls in 0.003 seconds\n",
       "\n",
       "   Ordered by: internal time\n",
       "\n",
       "   ncalls  tottime  percall  cumtime  percall filename:lineno(function)\n",
       "        1    0.001    0.001    0.001    0.001 socket.py:626(send)\n",
       "       32    0.001    0.000    0.001    0.000 iostream.py:505(parent_header)\n",
       "        1    0.000    0.000    0.003    0.003 {built-in method builtins.exec}\n",
       "       32    0.000    0.000    0.002    0.000 iostream.py:655(write)\n",
       "       32    0.000    0.000    0.000    0.000 iostream.py:550(_is_master_process)\n",
       "        8    0.000    0.000    0.002    0.000 {built-in method builtins.print}\n",
       "        1    0.000    0.000    0.002    0.002 2999758889.py:1(showData)\n",
       "        1    0.000    0.000    0.001    0.001 iostream.py:259(schedule)\n",
       "       32    0.000    0.000    0.001    0.000 iostream.py:577(_schedule_flush)\n",
       "        1    0.000    0.000    0.000    0.000 threading.py:1133(is_alive)\n",
       "       32    0.000    0.000    0.000    0.000 {method 'write' of '_io.StringIO' objects}\n",
       "       32    0.000    0.000    0.000    0.000 {built-in method nt.getpid}\n",
       "       32    0.000    0.000    0.000    0.000 {method 'items' of 'dict' objects}\n",
       "       32    0.000    0.000    0.000    0.000 {method '__exit__' of '_thread.RLock' objects}\n",
       "       32    0.000    0.000    0.000    0.000 {method 'get' of 'ContextVar' objects}\n",
       "       32    0.000    0.000    0.000    0.000 {built-in method builtins.len}\n",
       "       32    0.000    0.000    0.000    0.000 {built-in method builtins.isinstance}\n",
       "        1    0.000    0.000    0.000    0.000 iostream.py:138(_event_pipe)\n",
       "        1    0.000    0.000    0.002    0.002 <string>:1(<module>)\n",
       "        1    0.000    0.000    0.000    0.000 threading.py:1066(_wait_for_tstate_lock)\n",
       "        1    0.000    0.000    0.000    0.000 {method 'acquire' of '_thread.lock' objects}\n",
       "        1    0.000    0.000    0.000    0.000 threading.py:536(is_set)\n",
       "        1    0.000    0.000    0.000    0.000 tz.py:74(utcoffset)\n",
       "        1    0.000    0.000    0.000    0.000 {method 'disable' of '_lsprof.Profiler' objects}\n",
       "        1    0.000    0.000    0.000    0.000 {method 'append' of 'collections.deque' objects}"
      ]
     },
     "metadata": {},
     "output_type": "display_data"
    }
   ],
   "source": [
    "%prun showData(2,10)"
   ]
  },
  {
   "cell_type": "code",
   "execution_count": 73,
   "id": "451cc2a3-4987-418b-9337-acb9c348b873",
   "metadata": {},
   "outputs": [
    {
     "name": "stdout",
     "output_type": "stream",
     "text": [
      "Requirement already satisfied: line_profiler in c:\\users\\egonh\\.conda\\envs\\dshandbook\\lib\\site-packages (4.2.0)\n"
     ]
    }
   ],
   "source": [
    "!pip install line_profiler"
   ]
  },
  {
   "cell_type": "code",
   "execution_count": 74,
   "id": "9d0c0773-6047-475f-ae12-3358daf3ce77",
   "metadata": {},
   "outputs": [
    {
     "name": "stdout",
     "output_type": "stream",
     "text": [
      "The line_profiler extension is already loaded. To reload it, use:\n",
      "  %reload_ext line_profiler\n"
     ]
    }
   ],
   "source": [
    "%load_ext line_profiler"
   ]
  },
  {
   "cell_type": "code",
   "execution_count": 76,
   "id": "cafeeb94-4aab-4507-b9db-b7633d26b7f1",
   "metadata": {},
   "outputs": [
    {
     "name": "stdout",
     "output_type": "stream",
     "text": [
      "Data 2\n",
      "Data 3\n",
      "Data 4\n",
      "Data 5\n",
      "Data 6\n",
      "Data 7\n",
      "Data 8\n",
      "Data 9\n",
      "Data 10\n",
      "Data 11\n",
      "Data 12\n",
      "Data 13\n",
      "Data 14\n",
      "Data 15\n",
      "Data 16\n",
      "Data 17\n",
      "Data 18\n",
      "Data 19\n",
      "Data 20\n",
      "Data 21\n",
      "Data 22\n",
      "Data 23\n",
      "Data 24\n",
      "Data 25\n",
      "Data 26\n",
      "Data 27\n",
      "Data 28\n",
      "Data 29\n",
      "Data 30\n",
      "Data 31\n",
      "Data 32\n",
      "Data 33\n",
      "Data 34\n",
      "Data 35\n",
      "Data 36\n",
      "Data 37\n",
      "Data 38\n",
      "Data 39\n",
      "Data 40\n",
      "Data 41\n",
      "Data 42\n",
      "Data 43\n",
      "Data 44\n",
      "Data 45\n",
      "Data 46\n",
      "Data 47\n",
      "Data 48\n",
      "Data 49\n"
     ]
    },
    {
     "data": {
      "text/plain": [
       "Timer unit: 1e-07 s"
      ]
     },
     "metadata": {},
     "output_type": "display_data"
    }
   ],
   "source": [
    "%lprun -f showData(2,50)"
   ]
  },
  {
   "cell_type": "code",
   "execution_count": 77,
   "id": "06fcad51-84df-4c67-a52a-f04593c7e1d1",
   "metadata": {},
   "outputs": [
    {
     "name": "stdout",
     "output_type": "stream",
     "text": [
      "Requirement already satisfied: memory_profiler in c:\\users\\egonh\\.conda\\envs\\dshandbook\\lib\\site-packages (0.61.0)\n",
      "Requirement already satisfied: psutil in c:\\users\\egonh\\.conda\\envs\\dshandbook\\lib\\site-packages (from memory_profiler) (6.1.1)\n"
     ]
    }
   ],
   "source": [
    "!pip install memory_profiler"
   ]
  },
  {
   "cell_type": "code",
   "execution_count": 78,
   "id": "1a3c109f-cbf2-4143-bcc6-1a02442ed4df",
   "metadata": {},
   "outputs": [
    {
     "name": "stdout",
     "output_type": "stream",
     "text": [
      "The memory_profiler extension is already loaded. To reload it, use:\n",
      "  %reload_ext memory_profiler\n"
     ]
    }
   ],
   "source": [
    "%load_ext memory_profiler"
   ]
  },
  {
   "cell_type": "code",
   "execution_count": 79,
   "id": "21db30c6-e72e-461e-a259-77409095ecc3",
   "metadata": {},
   "outputs": [
    {
     "name": "stdout",
     "output_type": "stream",
     "text": [
      "Data 2\n",
      "Data 3\n",
      "Data 4\n",
      "Data 5\n",
      "Data 6\n",
      "Data 7\n",
      "Data 8\n",
      "Data 9\n",
      "Data 10\n",
      "Data 11\n",
      "Data 12\n",
      "Data 13\n",
      "Data 14\n",
      "Data 15\n",
      "Data 16\n",
      "Data 17\n",
      "Data 18\n",
      "Data 19\n",
      "peak memory: 66.33 MiB, increment: 0.09 MiB\n"
     ]
    }
   ],
   "source": [
    "%memit showData(2,20)"
   ]
  },
  {
   "cell_type": "code",
   "execution_count": 80,
   "id": "c4fabdf9-2403-43ac-83ac-2aa178360a36",
   "metadata": {},
   "outputs": [
    {
     "name": "stdout",
     "output_type": "stream",
     "text": [
      "Data 2\n",
      "Data 3\n",
      "Data 4\n",
      "Data 5\n",
      "Data 6\n",
      "Data 7\n",
      "Data 8\n",
      "Data 9\n",
      "Data 10\n",
      "Data 11\n",
      "Data 12\n",
      "Data 13\n",
      "Data 14\n",
      "Data 15\n",
      "Data 16\n",
      "Data 17\n",
      "Data 18\n",
      "Data 19\n",
      "Data 20\n",
      "Data 21\n",
      "Data 22\n",
      "Data 23\n",
      "Data 24\n",
      "Data 25\n",
      "Data 26\n",
      "Data 27\n",
      "Data 28\n",
      "Data 29\n",
      "Data 30\n",
      "Data 31\n",
      "Data 32\n",
      "Data 33\n",
      "Data 34\n",
      "Data 35\n",
      "Data 36\n",
      "Data 37\n",
      "Data 38\n",
      "Data 39\n",
      "Data 40\n",
      "Data 41\n",
      "Data 42\n",
      "Data 43\n",
      "Data 44\n",
      "Data 45\n",
      "Data 46\n",
      "Data 47\n",
      "Data 48\n",
      "Data 49\n",
      "Data 50\n",
      "Data 51\n",
      "Data 52\n",
      "Data 53\n",
      "Data 54\n",
      "Data 55\n",
      "Data 56\n",
      "Data 57\n",
      "Data 58\n",
      "Data 59\n",
      "Data 60\n",
      "Data 61\n",
      "Data 62\n",
      "Data 63\n",
      "Data 64\n",
      "Data 65\n",
      "Data 66\n",
      "Data 67\n",
      "Data 68\n",
      "Data 69\n",
      "Data 70\n",
      "Data 71\n",
      "Data 72\n",
      "Data 73\n",
      "Data 74\n",
      "Data 75\n",
      "Data 76\n",
      "Data 77\n",
      "Data 78\n",
      "Data 79\n",
      "Data 80\n",
      "Data 81\n",
      "Data 82\n",
      "Data 83\n",
      "Data 84\n",
      "Data 85\n",
      "Data 86\n",
      "Data 87\n",
      "Data 88\n",
      "Data 89\n",
      "Data 90\n",
      "Data 91\n",
      "Data 92\n",
      "Data 93\n",
      "Data 94\n",
      "Data 95\n",
      "Data 96\n",
      "Data 97\n",
      "Data 98\n",
      "Data 99\n",
      "\n"
     ]
    },
    {
     "data": {
      "text/plain": []
     },
     "metadata": {},
     "output_type": "display_data"
    }
   ],
   "source": [
    "%mprun showData(2,100)"
   ]
  },
  {
   "cell_type": "code",
   "execution_count": null,
   "id": "737e6f41-2235-4ae1-a0d0-6163d0837f61",
   "metadata": {},
   "outputs": [],
   "source": []
  }
 ],
 "metadata": {
  "kernelspec": {
   "display_name": "Python 3 (ipykernel)",
   "language": "python",
   "name": "python3"
  },
  "language_info": {
   "codemirror_mode": {
    "name": "ipython",
    "version": 3
   },
   "file_extension": ".py",
   "mimetype": "text/x-python",
   "name": "python",
   "nbconvert_exporter": "python",
   "pygments_lexer": "ipython3",
   "version": "3.9.21"
  }
 },
 "nbformat": 4,
 "nbformat_minor": 5
}
