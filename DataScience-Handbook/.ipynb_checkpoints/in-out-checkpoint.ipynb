{
 "cells": [
  {
   "cell_type": "code",
   "execution_count": 3,
   "id": "f39bcc1a-285c-4461-9fbf-b7ac0d742c74",
   "metadata": {},
   "outputs": [],
   "source": [
    "# %magic"
   ]
  },
  {
   "cell_type": "code",
   "execution_count": 4,
   "id": "39b0947f-3dcb-4781-8d92-fe6d84dfeaf6",
   "metadata": {},
   "outputs": [],
   "source": [
    "import math"
   ]
  },
  {
   "cell_type": "code",
   "execution_count": 5,
   "id": "3cab2f4f-601e-40f5-be66-53115c1e9926",
   "metadata": {},
   "outputs": [
    {
     "data": {
      "text/plain": [
       "0.9092974268256817"
      ]
     },
     "execution_count": 5,
     "metadata": {},
     "output_type": "execute_result"
    }
   ],
   "source": [
    "math.sin(2)"
   ]
  },
  {
   "cell_type": "code",
   "execution_count": 6,
   "id": "9a816825-5b0d-4338-b9be-08a86484f791",
   "metadata": {},
   "outputs": [
    {
     "data": {
      "text/plain": [
       "-0.4161468365471424"
      ]
     },
     "execution_count": 6,
     "metadata": {},
     "output_type": "execute_result"
    }
   ],
   "source": [
    "math.cos(2)"
   ]
  },
  {
   "cell_type": "code",
   "execution_count": 7,
   "id": "7d31ff98-454b-4c32-b31e-9ab4cd0caeca",
   "metadata": {},
   "outputs": [
    {
     "data": {
      "text/plain": [
       "['',\n",
       " '## test\\n\\nIn',\n",
       " 'Out',\n",
       " '# %magic',\n",
       " 'import math',\n",
       " 'math.sin(2)',\n",
       " 'math.cos(2)',\n",
       " 'In']"
      ]
     },
     "execution_count": 7,
     "metadata": {},
     "output_type": "execute_result"
    }
   ],
   "source": [
    "In"
   ]
  },
  {
   "cell_type": "code",
   "execution_count": 8,
   "id": "89765e5c-5e91-4c1a-879a-bc45bf4543af",
   "metadata": {},
   "outputs": [
    {
     "data": {
      "text/plain": [
       "{1: ['',\n",
       "  '## test\\n\\nIn',\n",
       "  'Out',\n",
       "  '# %magic',\n",
       "  'import math',\n",
       "  'math.sin(2)',\n",
       "  'math.cos(2)',\n",
       "  'In',\n",
       "  'Out'],\n",
       " 5: 0.9092974268256817,\n",
       " 6: -0.4161468365471424,\n",
       " 7: ['',\n",
       "  '## test\\n\\nIn',\n",
       "  'Out',\n",
       "  '# %magic',\n",
       "  'import math',\n",
       "  'math.sin(2)',\n",
       "  'math.cos(2)',\n",
       "  'In',\n",
       "  'Out']}"
      ]
     },
     "execution_count": 8,
     "metadata": {},
     "output_type": "execute_result"
    }
   ],
   "source": [
    "Out"
   ]
  },
  {
   "cell_type": "code",
   "execution_count": 9,
   "id": "01bd2cca-2d38-4430-8615-dc63d23cc37e",
   "metadata": {},
   "outputs": [
    {
     "name": "stdout",
     "output_type": "stream",
     "text": [
      "## test\n",
      "\n",
      "In\n",
      "<class 'list'>\n"
     ]
    }
   ],
   "source": [
    "print(In[1])\n",
    "print(type(In))\n",
    "# print(Out[2])"
   ]
  },
  {
   "cell_type": "code",
   "execution_count": 10,
   "id": "2e03883b-f26d-4b3d-8454-5b2f013933fc",
   "metadata": {},
   "outputs": [
    {
     "name": "stdout",
     "output_type": "stream",
     "text": [
      "0.9092974268256817\n",
      "<class 'dict'>\n"
     ]
    }
   ],
   "source": [
    "print(Out[5]) ###dictonary mapping out numbers at\n",
    "print(type(Out))"
   ]
  },
  {
   "cell_type": "code",
   "execution_count": 14,
   "id": "115656fb-5444-47c4-8104-99f0f6d4753b",
   "metadata": {},
   "outputs": [
    {
     "data": {
      "text/plain": [
       "['',\n",
       " '## test\\n\\nIn',\n",
       " 'Out',\n",
       " '# %magic',\n",
       " 'import math',\n",
       " 'math.sin(2)',\n",
       " 'math.cos(2)',\n",
       " 'In',\n",
       " 'Out',\n",
       " 'print(In[1])\\nprint(type(In))\\n# print(Out[2])',\n",
       " 'print(Out[5]) ###dictonary mapping out numbers at\\nprint(type(Out))',\n",
       " 'Out[0]',\n",
       " \"Out['']\",\n",
       " 'Out',\n",
       " '## test\\n\\nIn']"
      ]
     },
     "execution_count": 14,
     "metadata": {},
     "output_type": "execute_result"
    }
   ],
   "source": [
    "## test\n",
    "\n",
    "In"
   ]
  },
  {
   "cell_type": "code",
   "execution_count": 13,
   "id": "0babd5c7-c1aa-4856-8010-260a1c588edc",
   "metadata": {},
   "outputs": [
    {
     "data": {
      "text/plain": [
       "{1: ['',\n",
       "  '## test\\n\\nIn',\n",
       "  'Out',\n",
       "  '# %magic',\n",
       "  'import math',\n",
       "  'math.sin(2)',\n",
       "  'math.cos(2)',\n",
       "  'In',\n",
       "  'Out',\n",
       "  'print(In[1])\\nprint(type(In))\\n# print(Out[2])',\n",
       "  'print(Out[5]) ###dictonary mapping out numbers at\\nprint(type(Out))',\n",
       "  'Out[0]',\n",
       "  \"Out['']\",\n",
       "  'Out'],\n",
       " 5: 0.9092974268256817,\n",
       " 6: -0.4161468365471424,\n",
       " 7: ['',\n",
       "  '## test\\n\\nIn',\n",
       "  'Out',\n",
       "  '# %magic',\n",
       "  'import math',\n",
       "  'math.sin(2)',\n",
       "  'math.cos(2)',\n",
       "  'In',\n",
       "  'Out',\n",
       "  'print(In[1])\\nprint(type(In))\\n# print(Out[2])',\n",
       "  'print(Out[5]) ###dictonary mapping out numbers at\\nprint(type(Out))',\n",
       "  'Out[0]',\n",
       "  \"Out['']\",\n",
       "  'Out']}"
      ]
     },
     "execution_count": 13,
     "metadata": {},
     "output_type": "execute_result"
    }
   ],
   "source": [
    "Out"
   ]
  },
  {
   "cell_type": "code",
   "execution_count": 15,
   "id": "3c8ee5c2-2078-4bf8-a1b5-f0e669177a3e",
   "metadata": {},
   "outputs": [
    {
     "data": {
      "text/plain": [
       "['',\n",
       " '## test\\n\\nIn',\n",
       " 'Out',\n",
       " '# %magic',\n",
       " 'import math',\n",
       " 'math.sin(2)',\n",
       " 'math.cos(2)',\n",
       " 'In',\n",
       " 'Out',\n",
       " 'print(In[1])\\nprint(type(In))\\n# print(Out[2])',\n",
       " 'print(Out[5]) ###dictonary mapping out numbers at\\nprint(type(Out))',\n",
       " 'Out[0]',\n",
       " \"Out['']\",\n",
       " 'Out',\n",
       " '## test\\n\\nIn',\n",
       " 'Out[1]']"
      ]
     },
     "execution_count": 15,
     "metadata": {},
     "output_type": "execute_result"
    }
   ],
   "source": [
    "Out[1]"
   ]
  },
  {
   "cell_type": "code",
   "execution_count": 16,
   "id": "35897ebf-d769-42f5-9f8a-13fb854ac2e4",
   "metadata": {},
   "outputs": [],
   "source": [
    "a = 1"
   ]
  },
  {
   "cell_type": "code",
   "execution_count": 17,
   "id": "74f62e6c-e566-45d5-9505-629cd77a56cc",
   "metadata": {},
   "outputs": [
    {
     "data": {
      "text/plain": [
       "{1: ['',\n",
       "  '## test\\n\\nIn',\n",
       "  'Out',\n",
       "  '# %magic',\n",
       "  'import math',\n",
       "  'math.sin(2)',\n",
       "  'math.cos(2)',\n",
       "  'In',\n",
       "  'Out',\n",
       "  'print(In[1])\\nprint(type(In))\\n# print(Out[2])',\n",
       "  'print(Out[5]) ###dictonary mapping out numbers at\\nprint(type(Out))',\n",
       "  'Out[0]',\n",
       "  \"Out['']\",\n",
       "  'Out',\n",
       "  '## test\\n\\nIn',\n",
       "  'Out[1]',\n",
       "  'a = 1',\n",
       "  'Out'],\n",
       " 5: 0.9092974268256817,\n",
       " 6: -0.4161468365471424,\n",
       " 7: ['',\n",
       "  '## test\\n\\nIn',\n",
       "  'Out',\n",
       "  '# %magic',\n",
       "  'import math',\n",
       "  'math.sin(2)',\n",
       "  'math.cos(2)',\n",
       "  'In',\n",
       "  'Out',\n",
       "  'print(In[1])\\nprint(type(In))\\n# print(Out[2])',\n",
       "  'print(Out[5]) ###dictonary mapping out numbers at\\nprint(type(Out))',\n",
       "  'Out[0]',\n",
       "  \"Out['']\",\n",
       "  'Out',\n",
       "  '## test\\n\\nIn',\n",
       "  'Out[1]',\n",
       "  'a = 1',\n",
       "  'Out'],\n",
       " 14: ['',\n",
       "  '## test\\n\\nIn',\n",
       "  'Out',\n",
       "  '# %magic',\n",
       "  'import math',\n",
       "  'math.sin(2)',\n",
       "  'math.cos(2)',\n",
       "  'In',\n",
       "  'Out',\n",
       "  'print(In[1])\\nprint(type(In))\\n# print(Out[2])',\n",
       "  'print(Out[5]) ###dictonary mapping out numbers at\\nprint(type(Out))',\n",
       "  'Out[0]',\n",
       "  \"Out['']\",\n",
       "  'Out',\n",
       "  '## test\\n\\nIn',\n",
       "  'Out[1]',\n",
       "  'a = 1',\n",
       "  'Out'],\n",
       " 15: ['',\n",
       "  '## test\\n\\nIn',\n",
       "  'Out',\n",
       "  '# %magic',\n",
       "  'import math',\n",
       "  'math.sin(2)',\n",
       "  'math.cos(2)',\n",
       "  'In',\n",
       "  'Out',\n",
       "  'print(In[1])\\nprint(type(In))\\n# print(Out[2])',\n",
       "  'print(Out[5]) ###dictonary mapping out numbers at\\nprint(type(Out))',\n",
       "  'Out[0]',\n",
       "  \"Out['']\",\n",
       "  'Out',\n",
       "  '## test\\n\\nIn',\n",
       "  'Out[1]',\n",
       "  'a = 1',\n",
       "  'Out']}"
      ]
     },
     "execution_count": 17,
     "metadata": {},
     "output_type": "execute_result"
    }
   ],
   "source": [
    "Out"
   ]
  },
  {
   "cell_type": "code",
   "execution_count": 18,
   "id": "47bde2a5-0b36-4231-b1d6-5eb4951a160f",
   "metadata": {},
   "outputs": [
    {
     "data": {
      "text/plain": [
       "['',\n",
       " '## test\\n\\nIn',\n",
       " 'Out',\n",
       " '# %magic',\n",
       " 'import math',\n",
       " 'math.sin(2)',\n",
       " 'math.cos(2)',\n",
       " 'In',\n",
       " 'Out',\n",
       " 'print(In[1])\\nprint(type(In))\\n# print(Out[2])',\n",
       " 'print(Out[5]) ###dictonary mapping out numbers at\\nprint(type(Out))',\n",
       " 'Out[0]',\n",
       " \"Out['']\",\n",
       " 'Out',\n",
       " '## test\\n\\nIn',\n",
       " 'Out[1]',\n",
       " 'a = 1',\n",
       " 'Out',\n",
       " 'In']"
      ]
     },
     "execution_count": 18,
     "metadata": {},
     "output_type": "execute_result"
    }
   ],
   "source": [
    "In"
   ]
  },
  {
   "cell_type": "code",
   "execution_count": 32,
   "id": "02a53f7c-c562-4f71-a296-c696d029b1f5",
   "metadata": {},
   "outputs": [
    {
     "data": {
      "text/plain": [
       "2.2"
      ]
     },
     "execution_count": 32,
     "metadata": {},
     "output_type": "execute_result"
    }
   ],
   "source": [
    "2.2"
   ]
  },
  {
   "cell_type": "code",
   "execution_count": 33,
   "id": "e1806a00-4c1d-4f64-8dec-25c12a69f0eb",
   "metadata": {},
   "outputs": [
    {
     "data": {
      "text/plain": [
       "1.0"
      ]
     },
     "execution_count": 33,
     "metadata": {},
     "output_type": "execute_result"
    }
   ],
   "source": [
    "Out[5]**2 + Out[6]**2"
   ]
  },
  {
   "cell_type": "code",
   "execution_count": 34,
   "id": "4b478b35-47a9-473f-be6e-4ed8929355e8",
   "metadata": {},
   "outputs": [
    {
     "name": "stdout",
     "output_type": "stream",
     "text": [
      "2.0\n"
     ]
    }
   ],
   "source": [
    "print(___)\n"
   ]
  },
  {
   "cell_type": "code",
   "execution_count": 35,
   "id": "262a6ae8-28ae-4a1a-aa43-3d185f722cb0",
   "metadata": {},
   "outputs": [
    {
     "name": "stdout",
     "output_type": "stream",
     "text": [
      "2.2\n"
     ]
    }
   ],
   "source": [
    "print(__)"
   ]
  },
  {
   "cell_type": "code",
   "execution_count": 39,
   "id": "9b979036-8be9-47fb-a218-8f7dd6569091",
   "metadata": {},
   "outputs": [
    {
     "name": "stdout",
     "output_type": "stream",
     "text": [
      "2.0\n"
     ]
    }
   ],
   "source": [
    "print(___)"
   ]
  },
  {
   "cell_type": "code",
   "execution_count": 40,
   "id": "efc94de0-8ba9-4ced-8f10-ac773a70710c",
   "metadata": {},
   "outputs": [
    {
     "data": {
      "text/plain": [
       "False"
      ]
     },
     "execution_count": 40,
     "metadata": {},
     "output_type": "execute_result"
    }
   ],
   "source": [
    "2 in Out"
   ]
  },
  {
   "cell_type": "code",
   "execution_count": 41,
   "id": "29df6f6c-41c0-4903-85b5-f129a2766efb",
   "metadata": {},
   "outputs": [
    {
     "data": {
      "text/plain": [
       "True"
      ]
     },
     "execution_count": 41,
     "metadata": {},
     "output_type": "execute_result"
    }
   ],
   "source": [
    "5 in Out"
   ]
  },
  {
   "cell_type": "code",
   "execution_count": null,
   "id": "3a6ec601-36e4-453d-b8a0-9c6afd2b3415",
   "metadata": {},
   "outputs": [],
   "source": []
  }
 ],
 "metadata": {
  "kernelspec": {
   "display_name": "Python 3 (ipykernel)",
   "language": "python",
   "name": "python3"
  },
  "language_info": {
   "codemirror_mode": {
    "name": "ipython",
    "version": 3
   },
   "file_extension": ".py",
   "mimetype": "text/x-python",
   "name": "python",
   "nbconvert_exporter": "python",
   "pygments_lexer": "ipython3",
   "version": "3.9.21"
  }
 },
 "nbformat": 4,
 "nbformat_minor": 5
}
