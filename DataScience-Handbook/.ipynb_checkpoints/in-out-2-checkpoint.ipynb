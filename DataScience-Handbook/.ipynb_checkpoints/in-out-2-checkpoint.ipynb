{
 "cells": [
  {
   "cell_type": "code",
   "execution_count": 14,
   "id": "0ef5b06e-9bb9-4fbe-8619-b3f4de23a9c5",
   "metadata": {},
   "outputs": [
    {
     "data": {
      "text/plain": [
       "1"
      ]
     },
     "execution_count": 14,
     "metadata": {},
     "output_type": "execute_result"
    }
   ],
   "source": [
    "1"
   ]
  },
  {
   "cell_type": "code",
   "execution_count": 15,
   "id": "8c01ad09-fa9c-4abe-834c-3012628ba8d2",
   "metadata": {},
   "outputs": [
    {
     "data": {
      "text/plain": [
       "3"
      ]
     },
     "execution_count": 15,
     "metadata": {},
     "output_type": "execute_result"
    }
   ],
   "source": [
    "3"
   ]
  },
  {
   "cell_type": "code",
   "execution_count": 16,
   "id": "e1a9612e-9dc1-413c-8388-fd40237178f0",
   "metadata": {},
   "outputs": [
    {
     "data": {
      "text/plain": [
       "['',\n",
       " '1*1;',\n",
       " '3*2;',\n",
       " 'Out',\n",
       " '# Out[2]',\n",
       " 'print (__)',\n",
       " '1*1;',\n",
       " '3*2;',\n",
       " 'In',\n",
       " 'Out',\n",
       " 'Out[8]',\n",
       " '1;',\n",
       " '3;',\n",
       " 'In',\n",
       " '1',\n",
       " '3',\n",
       " 'In']"
      ]
     },
     "execution_count": 16,
     "metadata": {},
     "output_type": "execute_result"
    }
   ],
   "source": [
    "In"
   ]
  },
  {
   "cell_type": "code",
   "execution_count": 19,
   "id": "c4df5c4b-22af-465a-81c0-3bf481f4caa3",
   "metadata": {},
   "outputs": [
    {
     "data": {
      "text/plain": [
       "1"
      ]
     },
     "execution_count": 19,
     "metadata": {},
     "output_type": "execute_result"
    }
   ],
   "source": [
    "Out[14]"
   ]
  },
  {
   "cell_type": "code",
   "execution_count": 21,
   "id": "635c2cc5-c749-4b2c-983c-d34590ae9810",
   "metadata": {},
   "outputs": [
    {
     "name": "stdout",
     "output_type": "stream",
     "text": [
      "1\n"
     ]
    }
   ],
   "source": [
    "print (_)"
   ]
  },
  {
   "cell_type": "code",
   "execution_count": 27,
   "id": "222d27e9-e850-46b9-ae22-7eb274c0aa7d",
   "metadata": {},
   "outputs": [
    {
     "data": {
      "text/plain": [
       "True"
      ]
     },
     "execution_count": 27,
     "metadata": {},
     "output_type": "execute_result"
    }
   ],
   "source": [
    "16 in Out"
   ]
  },
  {
   "cell_type": "code",
   "execution_count": 35,
   "id": "4b2d12a3-bf65-4e5f-af05-4fc3f815f694",
   "metadata": {},
   "outputs": [
    {
     "name": "stdout",
     "output_type": "stream",
     "text": [
      "   1: 1*1;\n"
     ]
    }
   ],
   "source": [
    "%history -n 1"
   ]
  },
  {
   "cell_type": "code",
   "execution_count": 56,
   "id": "9ba13f3c-31a4-4e7a-a3ef-9debfc24746c",
   "metadata": {},
   "outputs": [
    {
     "data": {
      "text/plain": [
       "\u001b[1;31mDocstring:\u001b[0m\n",
       "::\n",
       "\n",
       "  %history [-n] [-o] [-p] [-t] [-f FILENAME] [-g [PATTERN ...]] [-l [LIMIT]] [-u] [range ...]\n",
       "\n",
       "Print input history (_i<n> variables), with most recent last.\n",
       "\n",
       "By default, input history is printed without line numbers so it can be\n",
       "directly pasted into an editor. Use -n to show them.\n",
       "\n",
       "By default, all input history from the current session is displayed.\n",
       "Ranges of history can be indicated using the syntax:\n",
       "\n",
       "``4``\n",
       "    Line 4, current session\n",
       "``4-6``\n",
       "    Lines 4-6, current session\n",
       "``243/1-5``\n",
       "    Lines 1-5, session 243\n",
       "``~2/7``\n",
       "    Line 7, session 2 before current\n",
       "``~8/1-~6/5``\n",
       "    From the first line of 8 sessions ago, to the fifth line of 6\n",
       "    sessions ago.\n",
       "\n",
       "Multiple ranges can be entered, separated by spaces\n",
       "\n",
       "The same syntax is used by %macro, %save, %edit, %rerun\n",
       "\n",
       "Examples\n",
       "--------\n",
       "::\n",
       "\n",
       "  In [6]: %history -n 4-6\n",
       "  4:a = 12\n",
       "  5:print a**2\n",
       "  6:%history -n 4-6\n",
       "\n",
       "positional arguments:\n",
       "  range\n",
       "\n",
       "optional arguments:\n",
       "  -n                  print line numbers for each input. This feature is only available if numbered prompts are in\n",
       "                      use.\n",
       "  -o                  also print outputs for each input.\n",
       "  -p                  print classic '>>>' python prompts before each input. This is useful for making documentation,\n",
       "                      and in conjunction with -o, for producing doctest-ready output.\n",
       "  -t                  print the 'translated' history, as IPython understands it. IPython filters your input and\n",
       "                      converts it all into valid Python source before executing it (things like magics or aliases are\n",
       "                      turned into function calls, for example). With this option, you'll see the native history\n",
       "                      instead of the user-entered version: '%cd /' will be seen as 'get_ipython().run_line_magic(\"cd\",\n",
       "                      \"/\")' instead of '%cd /'.\n",
       "  -f FILENAME         FILENAME: instead of printing the output to the screen, redirect it to the given file. The file\n",
       "                      is always overwritten, though *when it can*, IPython asks for confirmation first. In particular,\n",
       "                      running the command 'history -f FILENAME' from the IPython Notebook interface will replace\n",
       "                      FILENAME even if it already exists *without* confirmation.\n",
       "  -g <[PATTERN ...]>  treat the arg as a glob pattern to search for in (full) history. This includes the saved history\n",
       "                      (almost all commands ever written). The pattern may contain '?' to match one unknown character\n",
       "                      and '*' to match any number of unknown characters. Use '%hist -g' to show full saved history\n",
       "                      (may be very long).\n",
       "  -l <[LIMIT]>        get the last n lines from all sessions. Specify n as a single arg, or the default is the last 10\n",
       "                      lines.\n",
       "  -u                  when searching history using `-g`, show only unique history.\n",
       "\u001b[1;31mFile:\u001b[0m      c:\\users\\egonh\\.conda\\envs\\dshandbook\\lib\\site-packages\\ipython\\core\\magics\\history.py"
      ]
     },
     "metadata": {},
     "output_type": "display_data"
    }
   ],
   "source": [
    "%history?"
   ]
  },
  {
   "cell_type": "code",
   "execution_count": 52,
   "id": "2d282383-5ed7-4b00-b2de-127cafce31f1",
   "metadata": {},
   "outputs": [
    {
     "data": {
      "application/json": {
       "cell": {
        "!": "OSMagics",
        "HTML": "Other",
        "SVG": "Other",
        "bash": "Other",
        "capture": "ExecutionMagics",
        "cmd": "Other",
        "code_wrap": "ExecutionMagics",
        "debug": "ExecutionMagics",
        "file": "Other",
        "html": "DisplayMagics",
        "javascript": "DisplayMagics",
        "js": "DisplayMagics",
        "latex": "DisplayMagics",
        "markdown": "DisplayMagics",
        "perl": "Other",
        "prun": "ExecutionMagics",
        "pypy": "Other",
        "python": "Other",
        "python2": "Other",
        "python3": "Other",
        "ruby": "Other",
        "script": "ScriptMagics",
        "sh": "Other",
        "svg": "DisplayMagics",
        "sx": "OSMagics",
        "system": "OSMagics",
        "time": "ExecutionMagics",
        "timeit": "ExecutionMagics",
        "writefile": "OSMagics"
       },
       "line": {
        "alias": "OSMagics",
        "alias_magic": "BasicMagics",
        "autoawait": "AsyncMagics",
        "autocall": "AutoMagics",
        "automagic": "AutoMagics",
        "autosave": "KernelMagics",
        "bookmark": "OSMagics",
        "cd": "OSMagics",
        "clear": "KernelMagics",
        "cls": "KernelMagics",
        "code_wrap": "ExecutionMagics",
        "colors": "BasicMagics",
        "conda": "PackagingMagics",
        "config": "ConfigMagics",
        "connect_info": "KernelMagics",
        "copy": "Other",
        "ddir": "Other",
        "debug": "ExecutionMagics",
        "dhist": "OSMagics",
        "dirs": "OSMagics",
        "doctest_mode": "BasicMagics",
        "echo": "Other",
        "ed": "Other",
        "edit": "KernelMagics",
        "env": "OSMagics",
        "gui": "BasicMagics",
        "hist": "Other",
        "history": "HistoryMagics",
        "killbgscripts": "ScriptMagics",
        "ldir": "Other",
        "less": "KernelMagics",
        "load": "CodeMagics",
        "load_ext": "ExtensionMagics",
        "loadpy": "CodeMagics",
        "logoff": "LoggingMagics",
        "logon": "LoggingMagics",
        "logstart": "LoggingMagics",
        "logstate": "LoggingMagics",
        "logstop": "LoggingMagics",
        "ls": "Other",
        "lsmagic": "BasicMagics",
        "macro": "ExecutionMagics",
        "magic": "BasicMagics",
        "mamba": "PackagingMagics",
        "matplotlib": "PylabMagics",
        "micromamba": "PackagingMagics",
        "mkdir": "Other",
        "more": "KernelMagics",
        "notebook": "BasicMagics",
        "page": "BasicMagics",
        "pastebin": "CodeMagics",
        "pdb": "ExecutionMagics",
        "pdef": "NamespaceMagics",
        "pdoc": "NamespaceMagics",
        "pfile": "NamespaceMagics",
        "pinfo": "NamespaceMagics",
        "pinfo2": "NamespaceMagics",
        "pip": "PackagingMagics",
        "popd": "OSMagics",
        "pprint": "BasicMagics",
        "precision": "BasicMagics",
        "prun": "ExecutionMagics",
        "psearch": "NamespaceMagics",
        "psource": "NamespaceMagics",
        "pushd": "OSMagics",
        "pwd": "OSMagics",
        "pycat": "OSMagics",
        "pylab": "PylabMagics",
        "qtconsole": "KernelMagics",
        "quickref": "BasicMagics",
        "recall": "HistoryMagics",
        "rehashx": "OSMagics",
        "reload_ext": "ExtensionMagics",
        "ren": "Other",
        "rep": "Other",
        "rerun": "HistoryMagics",
        "reset": "NamespaceMagics",
        "reset_selective": "NamespaceMagics",
        "rmdir": "Other",
        "run": "ExecutionMagics",
        "save": "CodeMagics",
        "sc": "OSMagics",
        "set_env": "OSMagics",
        "store": "StoreMagics",
        "sx": "OSMagics",
        "system": "OSMagics",
        "tb": "ExecutionMagics",
        "time": "ExecutionMagics",
        "timeit": "ExecutionMagics",
        "unalias": "OSMagics",
        "unload_ext": "ExtensionMagics",
        "who": "NamespaceMagics",
        "who_ls": "NamespaceMagics",
        "whos": "NamespaceMagics",
        "xdel": "NamespaceMagics",
        "xmode": "BasicMagics"
       }
      },
      "text/plain": [
       "Available line magics:\n",
       "%alias  %alias_magic  %autoawait  %autocall  %automagic  %autosave  %bookmark  %cd  %clear  %cls  %code_wrap  %colors  %conda  %config  %connect_info  %copy  %ddir  %debug  %dhist  %dirs  %doctest_mode  %echo  %ed  %edit  %env  %gui  %hist  %history  %killbgscripts  %ldir  %less  %load  %load_ext  %loadpy  %logoff  %logon  %logstart  %logstate  %logstop  %ls  %lsmagic  %macro  %magic  %mamba  %matplotlib  %micromamba  %mkdir  %more  %notebook  %page  %pastebin  %pdb  %pdef  %pdoc  %pfile  %pinfo  %pinfo2  %pip  %popd  %pprint  %precision  %prun  %psearch  %psource  %pushd  %pwd  %pycat  %pylab  %qtconsole  %quickref  %recall  %rehashx  %reload_ext  %ren  %rep  %rerun  %reset  %reset_selective  %rmdir  %run  %save  %sc  %set_env  %store  %sx  %system  %tb  %time  %timeit  %unalias  %unload_ext  %who  %who_ls  %whos  %xdel  %xmode\n",
       "\n",
       "Available cell magics:\n",
       "%%!  %%HTML  %%SVG  %%bash  %%capture  %%cmd  %%code_wrap  %%debug  %%file  %%html  %%javascript  %%js  %%latex  %%markdown  %%perl  %%prun  %%pypy  %%python  %%python2  %%python3  %%ruby  %%script  %%sh  %%svg  %%sx  %%system  %%time  %%timeit  %%writefile\n",
       "\n",
       "Automagic is ON, % prefix IS NOT needed for line magics."
      ]
     },
     "execution_count": 52,
     "metadata": {},
     "output_type": "execute_result"
    }
   ],
   "source": [
    "%lsmagic"
   ]
  },
  {
   "cell_type": "code",
   "execution_count": 55,
   "id": "c46a94bc-9daa-4f13-853f-375c912dde63",
   "metadata": {},
   "outputs": [],
   "source": [
    "# %gui osx "
   ]
  },
  {
   "cell_type": "code",
   "execution_count": 63,
   "id": "98ab183a-2954-4824-bfc0-57d23802645a",
   "metadata": {},
   "outputs": [],
   "source": [
    "# %history -t"
   ]
  },
  {
   "cell_type": "code",
   "execution_count": 64,
   "id": "d9264521-8c8f-489a-b0d0-8fe1cc2618b0",
   "metadata": {},
   "outputs": [
    {
     "name": "stdout",
     "output_type": "stream",
     "text": [
      "=== Executing: ===\n",
      "# %history -t\n",
      "=== Output: ===\n"
     ]
    }
   ],
   "source": [
    "%rerun"
   ]
  },
  {
   "cell_type": "code",
   "execution_count": null,
   "id": "adccb2b4-dd84-47bd-a81f-612268ee71cb",
   "metadata": {},
   "outputs": [],
   "source": [
    "%save - 1 .py"
   ]
  },
  {
   "cell_type": "code",
   "execution_count": null,
   "id": "7fa80f9c-dca1-4200-8aec-f66621b2e3be",
   "metadata": {},
   "outputs": [],
   "source": []
  }
 ],
 "metadata": {
  "kernelspec": {
   "display_name": "Python 3 (ipykernel)",
   "language": "python",
   "name": "python3"
  },
  "language_info": {
   "codemirror_mode": {
    "name": "ipython",
    "version": 3
   },
   "file_extension": ".py",
   "mimetype": "text/x-python",
   "name": "python",
   "nbconvert_exporter": "python",
   "pygments_lexer": "ipython3",
   "version": "3.9.21"
  }
 },
 "nbformat": 4,
 "nbformat_minor": 5
}
