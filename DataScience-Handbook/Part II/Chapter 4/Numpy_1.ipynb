{
 "cells": [
  {
   "cell_type": "code",
   "execution_count": 9,
   "id": "d90ecf13-c8f0-4526-a57a-e0dee59cd8c9",
   "metadata": {},
   "outputs": [
    {
     "data": {
      "text/plain": [
       "'2.0.2'"
      ]
     },
     "execution_count": 9,
     "metadata": {},
     "output_type": "execute_result"
    }
   ],
   "source": [
    "import numpy as np\n",
    "np.__version__"
   ]
  },
  {
   "cell_type": "code",
   "execution_count": 10,
   "id": "ce3f2b11-f801-4058-bcce-344195eba0a3",
   "metadata": {},
   "outputs": [],
   "source": [
    "a:int = 1;"
   ]
  },
  {
   "cell_type": "code",
   "execution_count": 11,
   "id": "13780284-ac13-469f-a639-7fdad676972c",
   "metadata": {},
   "outputs": [
    {
     "data": {
      "text/plain": [
       "int"
      ]
     },
     "execution_count": 11,
     "metadata": {},
     "output_type": "execute_result"
    }
   ],
   "source": [
    "type(a)"
   ]
  },
  {
   "cell_type": "code",
   "execution_count": 12,
   "id": "44db5453-e20a-4ed5-b540-613aa62a1d0c",
   "metadata": {},
   "outputs": [],
   "source": [
    "L = list(range(10))"
   ]
  },
  {
   "cell_type": "code",
   "execution_count": 13,
   "id": "f199fc04-cce2-464c-b636-33062133d67f",
   "metadata": {},
   "outputs": [
    {
     "data": {
      "text/plain": [
       "int"
      ]
     },
     "execution_count": 13,
     "metadata": {},
     "output_type": "execute_result"
    }
   ],
   "source": [
    "type(L[0])"
   ]
  },
  {
   "cell_type": "code",
   "execution_count": 14,
   "id": "34197467-8c2d-483e-ac22-4e4607fa040f",
   "metadata": {},
   "outputs": [],
   "source": [
    "L2 = [str(c) for c in L]"
   ]
  },
  {
   "cell_type": "code",
   "execution_count": 15,
   "id": "974cb089-971b-4815-869f-9c8204805448",
   "metadata": {},
   "outputs": [
    {
     "name": "stdout",
     "output_type": "stream",
     "text": [
      "['0', '1', '2', '3', '4', '5', '6', '7', '8', '9']\n"
     ]
    }
   ],
   "source": [
    "print(L2)"
   ]
  },
  {
   "cell_type": "code",
   "execution_count": 16,
   "id": "bc0502be-b2c8-4337-a275-4de05a6c95e0",
   "metadata": {},
   "outputs": [
    {
     "data": {
      "text/plain": [
       "int"
      ]
     },
     "execution_count": 16,
     "metadata": {},
     "output_type": "execute_result"
    }
   ],
   "source": [
    "type(L[0])"
   ]
  },
  {
   "cell_type": "code",
   "execution_count": 17,
   "id": "f48b0738-311c-44e2-b30a-804df0b7f13a",
   "metadata": {},
   "outputs": [
    {
     "data": {
      "text/plain": [
       "[bool, str, float, int]"
      ]
     },
     "execution_count": 17,
     "metadata": {},
     "output_type": "execute_result"
    }
   ],
   "source": [
    "L3 = [True, \"2\", 3.0, 4]\n",
    "[type(item) for item in L3]"
   ]
  },
  {
   "cell_type": "code",
   "execution_count": 18,
   "id": "88755dd4-4f4e-4df1-b26f-897d3b85cabb",
   "metadata": {},
   "outputs": [
    {
     "name": "stdout",
     "output_type": "stream",
     "text": [
      "array('u', '0123456789')\n"
     ]
    },
    {
     "data": {
      "text/plain": [
       "array('i', [0, 1, 2, 3, 4, 5, 6, 7, 8, 9])"
      ]
     },
     "execution_count": 18,
     "metadata": {},
     "output_type": "execute_result"
    }
   ],
   "source": [
    "import array\n",
    "l = list(range(10));\n",
    "l1 = [str(a) for a  in l]\n",
    "l1\n",
    "A = array.array('u',l1);\n",
    "print(A)\n",
    "\n",
    "B = array.array('i',l)\n",
    "B"
   ]
  },
  {
   "cell_type": "code",
   "execution_count": 19,
   "id": "ce191bbd-0b54-40da-b3f2-28d131e19c02",
   "metadata": {},
   "outputs": [],
   "source": [
    "# Numpy\n",
    "import numpy as np"
   ]
  },
  {
   "cell_type": "code",
   "execution_count": 20,
   "id": "b9ae808d-335c-48dc-9546-0260b1cb55b3",
   "metadata": {},
   "outputs": [
    {
     "data": {
      "text/plain": [
       "array([1. , 2. , 1.1])"
      ]
     },
     "execution_count": 20,
     "metadata": {},
     "output_type": "execute_result"
    }
   ],
   "source": [
    "np.array([1,2,1.1]) "
   ]
  },
  {
   "cell_type": "code",
   "execution_count": 21,
   "id": "6fdd2ed9-6078-42c4-932f-a87a3e028621",
   "metadata": {},
   "outputs": [
    {
     "data": {
      "text/plain": [
       "array([1., 2., 3.], dtype=float32)"
      ]
     },
     "execution_count": 21,
     "metadata": {},
     "output_type": "execute_result"
    }
   ],
   "source": [
    "fl_arr = np.array([1,2,3],dtype=np.float32)\n",
    "fl_arr"
   ]
  },
  {
   "cell_type": "code",
   "execution_count": 22,
   "id": "1ecd33d1-f667-41f4-a04c-8401d8ca6728",
   "metadata": {},
   "outputs": [],
   "source": [
    "# Multidiementional\n",
    "\n",
    "multi_d_arr = np.array([range(i,i+2) for i in [2,4,6,5]])"
   ]
  },
  {
   "cell_type": "code",
   "execution_count": 23,
   "id": "ae63fd3c-dd9d-43a3-9664-229103d66b08",
   "metadata": {},
   "outputs": [
    {
     "data": {
      "text/plain": [
       "4"
      ]
     },
     "execution_count": 23,
     "metadata": {},
     "output_type": "execute_result"
    }
   ],
   "source": [
    "len(multi_d_arr)\n",
    "# len? #length"
   ]
  },
  {
   "cell_type": "code",
   "execution_count": 24,
   "id": "ec20a185-a44c-4ba4-8977-3b595d6151ac",
   "metadata": {},
   "outputs": [
    {
     "data": {
      "text/plain": [
       "(4, 2)"
      ]
     },
     "execution_count": 24,
     "metadata": {},
     "output_type": "execute_result"
    }
   ],
   "source": [
    "multi_d_arr.shape"
   ]
  },
  {
   "cell_type": "code",
   "execution_count": 25,
   "id": "0b9ff8a8-56a7-4ff3-ae3a-b19affa3d361",
   "metadata": {},
   "outputs": [
    {
     "data": {
      "text/plain": [
       "array([[2, 3],\n",
       "       [4, 5],\n",
       "       [6, 7],\n",
       "       [5, 6]])"
      ]
     },
     "execution_count": 25,
     "metadata": {},
     "output_type": "execute_result"
    }
   ],
   "source": [
    "multi_d_arr"
   ]
  },
  {
   "cell_type": "code",
   "execution_count": 35,
   "id": "7efaf79c-bdfa-4164-8a67-7b6444eca5e3",
   "metadata": {},
   "outputs": [],
   "source": [
    "test_d_arr = np.array([[[1,2],[2,3],[1,2]],[[2,2],[3,2],[1,2]]])"
   ]
  },
  {
   "cell_type": "code",
   "execution_count": 36,
   "id": "392e5870-334f-474a-8101-1dfc1cd4afc8",
   "metadata": {},
   "outputs": [
    {
     "data": {
      "text/plain": [
       "(2, 3, 2)"
      ]
     },
     "execution_count": 36,
     "metadata": {},
     "output_type": "execute_result"
    }
   ],
   "source": [
    "test_d_arr.shape"
   ]
  }
 ],
 "metadata": {
  "kernelspec": {
   "display_name": "Python 3 (ipykernel)",
   "language": "python",
   "name": "python3"
  },
  "language_info": {
   "codemirror_mode": {
    "name": "ipython",
    "version": 3
   },
   "file_extension": ".py",
   "mimetype": "text/x-python",
   "name": "python",
   "nbconvert_exporter": "python",
   "pygments_lexer": "ipython3",
   "version": "3.9.21"
  }
 },
 "nbformat": 4,
 "nbformat_minor": 5
}
