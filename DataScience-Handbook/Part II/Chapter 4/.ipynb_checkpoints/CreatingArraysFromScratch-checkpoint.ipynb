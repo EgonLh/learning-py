{
 "cells": [
  {
   "cell_type": "code",
   "execution_count": 39,
   "id": "9c4a452d-82e4-468e-a41b-6a598a32113e",
   "metadata": {},
   "outputs": [],
   "source": [
    "import numpy as np"
   ]
  },
  {
   "cell_type": "code",
   "execution_count": 40,
   "id": "6f21d097-8e59-431e-8bca-8de8649993fa",
   "metadata": {},
   "outputs": [
    {
     "data": {
      "text/plain": [
       "array([0, 0, 0, 0, 0, 0, 0, 0, 0, 0])"
      ]
     },
     "execution_count": 40,
     "metadata": {},
     "output_type": "execute_result"
    }
   ],
   "source": [
    "np.zeros(10,dtype=int)"
   ]
  },
  {
   "cell_type": "code",
   "execution_count": 41,
   "id": "d288d361-ffb9-428d-a78b-613a01282711",
   "metadata": {},
   "outputs": [
    {
     "data": {
      "text/plain": [
       "array([[1., 1., 1., 1., 1.],\n",
       "       [1., 1., 1., 1., 1.],\n",
       "       [1., 1., 1., 1., 1.]])"
      ]
     },
     "execution_count": 41,
     "metadata": {},
     "output_type": "execute_result"
    }
   ],
   "source": [
    "np.ones((3,5),dtype=float)"
   ]
  },
  {
   "cell_type": "code",
   "execution_count": 52,
   "id": "2bf1da68-03c4-489e-9292-31ab66a5c392",
   "metadata": {},
   "outputs": [
    {
     "data": {
      "text/plain": [
       "array([[3.12, 3.12, 3.12, 3.12, 3.12],\n",
       "       [3.12, 3.12, 3.12, 3.12, 3.12],\n",
       "       [3.12, 3.12, 3.12, 3.12, 3.12]])"
      ]
     },
     "execution_count": 52,
     "metadata": {},
     "output_type": "execute_result"
    }
   ],
   "source": [
    "np.full((3,5),3.12)"
   ]
  },
  {
   "cell_type": "code",
   "execution_count": 58,
   "id": "18882fc5-6a04-4f85-b5f3-0065fad6e6f4",
   "metadata": {},
   "outputs": [
    {
     "data": {
      "text/plain": [
       "array([[3.12, 3.12, 3.12, 3.12, 3.12],\n",
       "       [3.12, 3.12, 3.12, 3.12, 3.12],\n",
       "       [3.12, 3.12, 3.12, 3.12, 3.12]])"
      ]
     },
     "execution_count": 58,
     "metadata": {},
     "output_type": "execute_result"
    }
   ],
   "source": [
    "np.full((3,5),3.12)"
   ]
  },
  {
   "cell_type": "code",
   "execution_count": 64,
   "id": "16fcf19c-b320-4b91-aef3-583d1432a44b",
   "metadata": {},
   "outputs": [
    {
     "data": {
      "text/plain": [
       "array([ 0,  2,  4,  6,  8, 10, 12, 14, 16, 18, 20, 22, 24, 26, 28, 30, 32,\n",
       "       34, 36, 38, 40, 42, 44, 46, 48, 50, 52, 54, 56, 58, 60, 62, 64, 66,\n",
       "       68, 70, 72, 74, 76, 78, 80, 82, 84, 86, 88, 90, 92, 94, 96, 98])"
      ]
     },
     "execution_count": 64,
     "metadata": {},
     "output_type": "execute_result"
    }
   ],
   "source": [
    "# by sleeping 2\n",
    "np.arange(0,20,2)\n",
    "\n",
    "np.arange(0,10,2)\n",
    "\n",
    "np.arange(0,100,2)"
   ]
  },
  {
   "cell_type": "code",
   "execution_count": 66,
   "id": "e3daddf0-2c3e-42e1-be9e-98726d40d0e9",
   "metadata": {},
   "outputs": [
    {
     "data": {
      "text/plain": [
       "array([0.  , 0.25, 0.5 , 0.75, 1.  ])"
      ]
     },
     "execution_count": 66,
     "metadata": {},
     "output_type": "execute_result"
    }
   ],
   "source": [
    "# an array of five values evenly spaced between 0 and 1\n",
    "np.linspace(0,1,5)"
   ]
  },
  {
   "cell_type": "code",
   "execution_count": 72,
   "id": "b8aec71e-a19e-4e76-a27c-b76205e0ea0a",
   "metadata": {},
   "outputs": [
    {
     "data": {
      "text/plain": [
       "array([[[0.61692616, 0.70758946],\n",
       "        [0.78688711, 0.6687277 ],\n",
       "        [0.42201725, 0.17488226]],\n",
       "\n",
       "       [[0.28162735, 0.63073316],\n",
       "        [0.83315608, 0.78999291],\n",
       "        [0.12696631, 0.62826614]],\n",
       "\n",
       "       [[0.02863047, 0.42989034],\n",
       "        [0.77871029, 0.90228451],\n",
       "        [0.44615697, 0.65685952]]])"
      ]
     },
     "execution_count": 72,
     "metadata": {},
     "output_type": "execute_result"
    }
   ],
   "source": [
    "# Create a 3x3 array of uniformly distributed\n",
    "# pseudorandom values between 0 and 1\n",
    "np.random.random((3,3,2))"
   ]
  },
  {
   "cell_type": "code",
   "execution_count": 73,
   "id": "99ef399a-8eb8-4502-8f79-2d7a897540fd",
   "metadata": {},
   "outputs": [
    {
     "data": {
      "text/plain": [
       "array([[-0.40928338,  0.707249  , -0.12595516],\n",
       "       [-0.01784539, -0.70362967, -0.56058267],\n",
       "       [ 0.21909631,  0.801459  , -0.72177908]])"
      ]
     },
     "execution_count": 73,
     "metadata": {},
     "output_type": "execute_result"
    }
   ],
   "source": [
    "np.random.normal(0, 1, (3, 3))"
   ]
  },
  {
   "cell_type": "code",
   "execution_count": 74,
   "id": "ef090da8-a1a7-42cb-a6ac-8cc0a5a77fd1",
   "metadata": {},
   "outputs": [
    {
     "data": {
      "text/plain": [
       "array([[49, 58, 15],\n",
       "       [97, 96, 18],\n",
       "       [34,  2, 12]], dtype=int32)"
      ]
     },
     "execution_count": 74,
     "metadata": {},
     "output_type": "execute_result"
    }
   ],
   "source": [
    "np.random.randint(0, 100, (3, 3))"
   ]
  },
  {
   "cell_type": "code",
   "execution_count": 91,
   "id": "c8430556-c1dc-429e-9083-6bb1dde37c26",
   "metadata": {},
   "outputs": [
    {
     "data": {
      "text/plain": [
       "array([[1, 3],\n",
       "       [2, 1],\n",
       "       [1, 3]], dtype=int32)"
      ]
     },
     "execution_count": 91,
     "metadata": {},
     "output_type": "execute_result"
    }
   ],
   "source": [
    "# np.random.randint?\n",
    "# np.random?\n",
    "np.random.randint(1,4,(3,2))"
   ]
  },
  {
   "cell_type": "code",
   "execution_count": 103,
   "id": "696afa9c-57b2-478b-81f6-c6f6c5ffc81a",
   "metadata": {},
   "outputs": [
    {
     "name": "stdout",
     "output_type": "stream",
     "text": [
      "[[1 0 0 0]\n",
      " [0 1 0 0]\n",
      " [0 0 1 0]\n",
      " [0 0 0 1]]\n",
      "[['1' '' '' '']\n",
      " ['' '1' '' '']\n",
      " ['' '' '1' '']\n",
      " ['' '' '' '1']]\n",
      "[[1. 0. 0. 0.]\n",
      " [0. 1. 0. 0.]\n",
      " [0. 0. 1. 0.]\n",
      " [0. 0. 0. 1.]]\n"
     ]
    }
   ],
   "source": [
    "print(np.eye(4,dtype=\"int\"))\n",
    "print(np.eye(4,dtype=\"str\"))\n",
    "print(np.eye(4))\n",
    "\n",
    "#  4x4 identity matrix"
   ]
  },
  {
   "cell_type": "code",
   "execution_count": 104,
   "id": "d5dbdfe2-e0fb-4ce3-8895-a02f7da999c5",
   "metadata": {},
   "outputs": [
    {
     "data": {
      "text/plain": [
       "array([ 1.22298514e-311,  0.00000000e+000, -4.94065646e-324])"
      ]
     },
     "execution_count": 104,
     "metadata": {},
     "output_type": "execute_result"
    }
   ],
   "source": [
    "# an uninitialized array of three integers; the values will be\n",
    "# whatever happens to already exist at that memory location\n",
    "np.empty(3)"
   ]
  }
 ],
 "metadata": {
  "kernelspec": {
   "display_name": "Python 3 (ipykernel)",
   "language": "python",
   "name": "python3"
  },
  "language_info": {
   "codemirror_mode": {
    "name": "ipython",
    "version": 3
   },
   "file_extension": ".py",
   "mimetype": "text/x-python",
   "name": "python",
   "nbconvert_exporter": "python",
   "pygments_lexer": "ipython3",
   "version": "3.9.21"
  }
 },
 "nbformat": 4,
 "nbformat_minor": 5
}
