{
 "cells": [
  {
   "cell_type": "code",
   "execution_count": 2,
   "id": "6f7436f6-a7f6-4381-8de1-6b1b8773a3aa",
   "metadata": {},
   "outputs": [],
   "source": [
    "import numpy as np"
   ]
  },
  {
   "cell_type": "code",
   "execution_count": 5,
   "id": "67f246de-7cb8-41aa-baf2-0af1569507c8",
   "metadata": {},
   "outputs": [
    {
     "name": "stdout",
     "output_type": "stream",
     "text": [
      "Generator(PCG64)\n"
     ]
    }
   ],
   "source": [
    "rng = np.random.default_rng(seed=1701) # seed for reproducibility\n",
    "# Construct a new Generator with the default BitGenerator\n",
    "print(rng)"
   ]
  },
  {
   "cell_type": "code",
   "execution_count": null,
   "id": "34f70183-4a85-447e-bfa9-debf6fb63391",
   "metadata": {},
   "outputs": [],
   "source": [
    "x1 = rng."
   ]
  }
 ],
 "metadata": {
  "kernelspec": {
   "display_name": "Python 3 (ipykernel)",
   "language": "python",
   "name": "python3"
  },
  "language_info": {
   "codemirror_mode": {
    "name": "ipython",
    "version": 3
   },
   "file_extension": ".py",
   "mimetype": "text/x-python",
   "name": "python",
   "nbconvert_exporter": "python",
   "pygments_lexer": "ipython3",
   "version": "3.9.21"
  }
 },
 "nbformat": 4,
 "nbformat_minor": 5
}
