{
 "cells": [
  {
   "cell_type": "code",
   "execution_count": 1,
   "id": "6f7436f6-a7f6-4381-8de1-6b1b8773a3aa",
   "metadata": {},
   "outputs": [],
   "source": [
    "import numpy as np"
   ]
  },
  {
   "cell_type": "code",
   "execution_count": 5,
   "id": "67f246de-7cb8-41aa-baf2-0af1569507c8",
   "metadata": {},
   "outputs": [
    {
     "name": "stdout",
     "output_type": "stream",
     "text": [
      "Generator(PCG64)\n"
     ]
    }
   ],
   "source": [
    "rng = np.random.default_rng(seed=1701) # seed for reproducibility\n",
    "# Construct a new Generator with the default BitGenerator\n",
    "print(rng)"
   ]
  },
  {
   "cell_type": "code",
   "execution_count": 7,
   "id": "34f70183-4a85-447e-bfa9-debf6fb63391",
   "metadata": {},
   "outputs": [],
   "source": [
    "x1 = rng.integers(10,size=6) #`  1D array`\n",
    "x2  = rng.integers(10,size=(3,4)) # 2D array\n",
    "x3 = rng.integers(10,size=(3,4,5)) # 3D array"
   ]
  },
  {
   "cell_type": "code",
   "execution_count": 9,
   "id": "ccb071b8",
   "metadata": {},
   "outputs": [
    {
     "name": "stdout",
     "output_type": "stream",
     "text": [
      "[[[4 3 5 5 0]\n",
      "  [8 3 5 2 2]\n",
      "  [1 8 8 5 3]\n",
      "  [0 0 8 5 8]]\n",
      "\n",
      " [[5 1 6 2 3]\n",
      "  [1 2 5 6 2]\n",
      "  [5 2 7 9 3]\n",
      "  [5 6 0 2 0]]\n",
      "\n",
      " [[2 9 4 3 9]\n",
      "  [9 2 2 4 0]\n",
      "  [0 3 0 0 2]\n",
      "  [3 2 7 4 7]]]\n",
      "x3 Shape:  (3, 4, 5)\n",
      "x3 Size:  60\n",
      "x3 Dimension:  3\n",
      "x3 Data type:  int64\n"
     ]
    }
   ],
   "source": [
    "print(x3);\n",
    "print(\"x3 Shape: \", x3.shape)\n",
    "print(\"x3 Size: \", x3.size)\n",
    "print(\"x3 Dimension: \", x3.ndim)\n",
    "print(\"x3 Data type: \", x3.dtype)"
   ]
  },
  {
   "cell_type": "code",
   "execution_count": 52,
   "id": "71fac97b",
   "metadata": {},
   "outputs": [
    {
     "name": "stdout",
     "output_type": "stream",
     "text": [
      "<class 'list'>\n",
      "[1, 2, 3, 4]\n"
     ]
    }
   ],
   "source": [
    "# same indexing with numpy array\n",
    "test =[1,2,3,4];\n",
    "test2 = [[2,2],[1,1]];\n",
    "print(type(test))\n",
    "test[-2]\n",
    "\n",
    "\n",
    "# print(test2[0,1])\n",
    "print(test[0:4])"
   ]
  },
  {
   "cell_type": "code",
   "execution_count": 32,
   "id": "f10ebf25",
   "metadata": {},
   "outputs": [
    {
     "name": "stdout",
     "output_type": "stream",
     "text": [
      "X1: [9 4 0 3 8 6]\n",
      "9\n",
      "X2 : [[3 1 3 7]\n",
      " [4 0 2 3]\n",
      " [0 0 6 9]]\n",
      "3\n",
      "[4 0 2 3]\n",
      "[0 0 6 9]\n",
      "3\n",
      "[[3 1 3 7]\n",
      " [4 0 2 3]\n",
      " [0 0 6 9]]\n"
     ]
    }
   ],
   "source": [
    "# Indexing\n",
    "print(\"X1:\",x1)\n",
    "print(x1[0])\n",
    "\n",
    "print(\"X2 :\",x2)\n",
    "print(x2[0][0])\n",
    "print(x2[1])\n",
    "\n",
    "print(x2[-1])\n",
    "print(x2[-2][-1])\n",
    "print(x2[:])\n"
   ]
  },
  {
   "cell_type": "code",
   "execution_count": 41,
   "id": "9b0be016",
   "metadata": {},
   "outputs": [
    {
     "name": "stdout",
     "output_type": "stream",
     "text": [
      "[[ 3  1  3  7]\n",
      " [ 4  0  2  3]\n",
      " [ 0  0  6 10]]\n",
      "10\n",
      "[ 0  0  6 12]\n"
     ]
    }
   ],
   "source": [
    "#unlike from listing > numpy array can ne access using comma-separated(row,col) tuple\n",
    "print(x2)\n",
    "print(x2[2,-1])\n",
    "\n",
    "# modified\n",
    "x2[-1,-1] = 12;\n",
    "print(x2[-1])"
   ]
  },
  {
   "cell_type": "code",
   "execution_count": null,
   "id": "7b0093f5",
   "metadata": {},
   "outputs": [],
   "source": []
  }
 ],
 "metadata": {
  "kernelspec": {
   "display_name": "Python 3",
   "language": "python",
   "name": "python3"
  },
  "language_info": {
   "codemirror_mode": {
    "name": "ipython",
    "version": 3
   },
   "file_extension": ".py",
   "mimetype": "text/x-python",
   "name": "python",
   "nbconvert_exporter": "python",
   "pygments_lexer": "ipython3",
   "version": "3.9.21"
  }
 },
 "nbformat": 4,
 "nbformat_minor": 5
}
