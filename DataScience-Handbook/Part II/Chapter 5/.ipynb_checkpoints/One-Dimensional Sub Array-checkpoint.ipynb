{
 "cells": [
  {
   "cell_type": "code",
   "execution_count": 1,
   "id": "0a12eb2d-5c27-4bfe-b121-8624ce99ad51",
   "metadata": {},
   "outputs": [],
   "source": [
    "import numpy as np"
   ]
  },
  {
   "cell_type": "code",
   "execution_count": 2,
   "id": "2d039840-b80c-45bd-a323-d0074fc7a6ce",
   "metadata": {},
   "outputs": [
    {
     "name": "stdout",
     "output_type": "stream",
     "text": [
      "Hello, World\n"
     ]
    }
   ],
   "source": [
    "print(\"Hello, World\")"
   ]
  },
  {
   "cell_type": "code",
   "execution_count": 3,
   "id": "e1f26f81-6365-49c3-a8d3-6879896c322b",
   "metadata": {},
   "outputs": [
    {
     "data": {
      "text/plain": [
       "[1, 2, 3, 4, 5, 6, 7, 8, 9]"
      ]
     },
     "execution_count": 3,
     "metadata": {},
     "output_type": "execute_result"
    }
   ],
   "source": [
    "# One dimentional sub-array\n",
    "x1 = [1,2,3,4,5,6,7,8,9]\n",
    "x1"
   ]
  },
  {
   "cell_type": "code",
   "execution_count": 4,
   "id": "d3c3c84c-9d25-4e9a-bb3c-2bdfaec26b97",
   "metadata": {},
   "outputs": [
    {
     "data": {
      "text/plain": [
       "[2, 3, 4, 5, 6, 7, 8, 9]"
      ]
     },
     "execution_count": 4,
     "metadata": {},
     "output_type": "execute_result"
    }
   ],
   "source": [
    "x1[1:] ## Start from 1"
   ]
  },
  {
   "cell_type": "code",
   "execution_count": 5,
   "id": "aa93622d-92eb-4beb-86f8-841bacd8e76d",
   "metadata": {},
   "outputs": [
    {
     "data": {
      "text/plain": [
       "[2, 3]"
      ]
     },
     "execution_count": 5,
     "metadata": {},
     "output_type": "execute_result"
    }
   ],
   "source": [
    "x1[1:3] ## start from 1 end at 3(index)"
   ]
  },
  {
   "cell_type": "code",
   "execution_count": 6,
   "id": "30c8fb3c-805e-4874-a916-cb51beb2c3a8",
   "metadata": {},
   "outputs": [
    {
     "data": {
      "text/plain": [
       "[1, 2, 3]"
      ]
     },
     "execution_count": 6,
     "metadata": {},
     "output_type": "execute_result"
    }
   ],
   "source": [
    "x1[:3] ## end at 3[index]"
   ]
  },
  {
   "cell_type": "code",
   "execution_count": 7,
   "id": "f39e6f2c-c392-4623-b582-d306ff17de31",
   "metadata": {},
   "outputs": [
    {
     "data": {
      "text/plain": [
       "[1, 4, 7]"
      ]
     },
     "execution_count": 7,
     "metadata": {},
     "output_type": "execute_result"
    }
   ],
   "source": [
    "x1[::3] ### every second element"
   ]
  },
  {
   "cell_type": "code",
   "execution_count": 8,
   "id": "9ca435ea-47ab-473d-9161-d4ab8e54b96a",
   "metadata": {},
   "outputs": [
    {
     "data": {
      "text/plain": [
       "[2, 4, 6, 8]"
      ]
     },
     "execution_count": 8,
     "metadata": {},
     "output_type": "execute_result"
    }
   ],
   "source": [
    "x1[1::2] ### every second element start from 1"
   ]
  },
  {
   "cell_type": "markdown",
   "id": "86d39cc1-1591-4806-a0c7-2e93ae9bb4fb",
   "metadata": {},
   "source": [
    "### Multidimensional Subarrays"
   ]
  },
  {
   "cell_type": "code",
   "execution_count": 37,
   "id": "31e628d4-b86f-456a-a6a5-dc5db8b861b2",
   "metadata": {},
   "outputs": [
    {
     "name": "stdout",
     "output_type": "stream",
     "text": [
      "<class 'numpy.ndarray'>\n",
      "(3, 4)\n"
     ]
    }
   ],
   "source": [
    "x2 = np.array([[1,2,3,4],[11,12,13,14],[21,22,23,24]])\n",
    "print(type(x2));\n",
    "print(x2.shape)"
   ]
  },
  {
   "cell_type": "code",
   "execution_count": 38,
   "id": "498b682c-f573-47d7-8326-81fc5aaf1066",
   "metadata": {},
   "outputs": [
    {
     "data": {
      "text/plain": [
       "array([[11, 12],\n",
       "       [21, 22]])"
      ]
     },
     "execution_count": 38,
     "metadata": {},
     "output_type": "execute_result"
    }
   ],
   "source": [
    "x2[1:,:2] ## start from 1(end in 2)"
   ]
  },
  {
   "cell_type": "code",
   "execution_count": 39,
   "id": "fc4b5381-d400-4a23-9033-5f1bfa6b0f87",
   "metadata": {},
   "outputs": [
    {
     "data": {
      "text/plain": [
       "array([[11, 12, 13, 14],\n",
       "       [21, 22, 23, 24]])"
      ]
     },
     "execution_count": 39,
     "metadata": {},
     "output_type": "execute_result"
    }
   ],
   "source": [
    "x2[1:,:] ## start from 1(got all)"
   ]
  },
  {
   "cell_type": "code",
   "execution_count": 40,
   "id": "866d29bd-609f-4c50-bd0f-1b23a5815041",
   "metadata": {},
   "outputs": [
    {
     "data": {
      "text/plain": [
       "array([[ 1,  3],\n",
       "       [11, 13],\n",
       "       [21, 23]])"
      ]
     },
     "execution_count": 40,
     "metadata": {},
     "output_type": "execute_result"
    }
   ],
   "source": [
    "x2[:,::2] ## (in every column > got every 2th element)"
   ]
  },
  {
   "cell_type": "code",
   "execution_count": 41,
   "id": "262245d2-955e-4339-a78a-e8453cdf7132",
   "metadata": {},
   "outputs": [
    {
     "data": {
      "text/plain": [
       "array([[24, 23, 22, 21],\n",
       "       [14, 13, 12, 11],\n",
       "       [ 4,  3,  2,  1]])"
      ]
     },
     "execution_count": 41,
     "metadata": {},
     "output_type": "execute_result"
    }
   ],
   "source": [
    "x2[::-1,::-1] ## all reversed"
   ]
  },
  {
   "cell_type": "code",
   "execution_count": 42,
   "id": "977c2dce-08b2-434e-b366-da26af0ea6e5",
   "metadata": {},
   "outputs": [
    {
     "data": {
      "text/plain": [
       "array([[ 4,  3,  2,  1],\n",
       "       [24, 23, 22, 21]])"
      ]
     },
     "execution_count": 42,
     "metadata": {},
     "output_type": "execute_result"
    }
   ],
   "source": [
    "x2 [::2,::-1] ## first and 2th columns with resevered elements"
   ]
  },
  {
   "cell_type": "code",
   "execution_count": 43,
   "id": "6b7ec036-1f62-4ba3-a42a-9b7497d1bed4",
   "metadata": {},
   "outputs": [
    {
     "data": {
      "text/plain": [
       "array([21, 22, 23, 24])"
      ]
     },
     "execution_count": 43,
     "metadata": {},
     "output_type": "execute_result"
    }
   ],
   "source": [
    "# common need\n",
    "x2 [-1,:] # last columns"
   ]
  },
  {
   "cell_type": "code",
   "execution_count": 44,
   "id": "cecb1352-b905-4640-a930-459e58a29a26",
   "metadata": {},
   "outputs": [
    {
     "data": {
      "text/plain": [
       "array([4, 3, 2, 1])"
      ]
     },
     "execution_count": 44,
     "metadata": {},
     "output_type": "execute_result"
    }
   ],
   "source": [
    "x2 [0,::-1] # first columns but reversed"
   ]
  },
  {
   "cell_type": "code",
   "execution_count": 45,
   "id": "99db6a38-905f-4f94-9a3a-7bd25de12fcb",
   "metadata": {},
   "outputs": [
    {
     "data": {
      "text/plain": [
       "array([1, 2, 3, 4])"
      ]
     },
     "execution_count": 45,
     "metadata": {},
     "output_type": "execute_result"
    }
   ],
   "source": [
    "x2[0] ## equal to x2 [0,:]"
   ]
  },
  {
   "cell_type": "markdown",
   "id": "13ed522d-4b20-4a91-92c5-5116dde187f1",
   "metadata": {},
   "source": [
    "## Subarrays as no-copy views in numpy "
   ]
  },
  {
   "cell_type": "code",
   "execution_count": 96,
   "id": "a39b327f-1dd3-4787-a152-08b91cff837f",
   "metadata": {},
   "outputs": [
    {
     "name": "stdout",
     "output_type": "stream",
     "text": [
      "<class 'list'>\n",
      "Sub from org: [2, 3]\n",
      "Sub [10, 3]\n",
      "Org [1, 2, 3, 4]\n",
      "sub memo 2119641576512\n",
      "org memo 2119640769600\n",
      "2121580570992 : 3\n",
      "2121580570992 : 3\n",
      "True\n"
     ]
    }
   ],
   "source": [
    "# in python list\n",
    "l = [1,2,3,4]\n",
    "print(type(l))\n",
    "\n",
    "l_sub = l[1:3]\n",
    "print(\"Sub from org:\",l_sub);\n",
    "l_sub[0] = 10;\n",
    "\n",
    "print(\"Sub\",l_sub);\n",
    "print(\"Org\",l)\n",
    "\n",
    "# The slice (l_sub = l[1:3]) is passed by value (it’s a new list).\n",
    "# The elements inside are passed by reference (they still point to the same objects).\n",
    "print(\"sub memo\",id(l_sub))\n",
    "print(\"org memo\",id(l))\n",
    "print(id(l_sub[1]) ,\":\",l_sub[1])\n",
    "print(id(l[2]),\":\",l[2])\n",
    "print(id(l_sub[1]) == id(l[2]))"
   ]
  },
  {
   "cell_type": "code",
   "execution_count": 98,
   "id": "ff0c38c4-36e4-492d-a7ab-c57f15dd0283",
   "metadata": {},
   "outputs": [
    {
     "name": "stdout",
     "output_type": "stream",
     "text": [
      "[24 23 22 21]\n",
      "Org: [[  1   2   3   4]\n",
      " [ 11  12  13  14]\n",
      " [ 21  22  23 100]]\n",
      "Sub: [100  23  22  21]\n"
     ]
    }
   ],
   "source": [
    "# in numpy arrays\n",
    "\n",
    "x2 = np.array([[1,2,3,4],[11,12,13,14],[21,22,23,24]])\n",
    "\n",
    "x2_sub = x2[-1,::-1]\n",
    "print(x2_sub)\n",
    "\n",
    "x2_sub[0] = 100;\n",
    "\n",
    "print(\"Org:\",x2)\n",
    "print(\"Sub:\",x2_sub)\n",
    "\n",
    "# the element is passed by reference (it is only views:reference)"
   ]
  },
  {
   "cell_type": "code",
   "execution_count": 103,
   "id": "e269786e-123c-4b21-9ad2-ec2fae42f8e0",
   "metadata": {},
   "outputs": [
    {
     "name": "stdout",
     "output_type": "stream",
     "text": [
      "[100  23  22  21]\n",
      "Copy_sub : [ 7 23 22 21]\n",
      "Org : [[  1   2   3   4]\n",
      " [ 11  12  13  14]\n",
      " [ 21  22  23 100]]\n"
     ]
    }
   ],
   "source": [
    "# with numpy copy methods\n",
    "x3_sub = x2[-1,::-1].copy()\n",
    "print(x2_sub)\n",
    "\n",
    "x3_sub[0] = 7;\n",
    "print(\"Copy_sub :\",x3_sub)\n",
    "print(\"Org :\",x2)"
   ]
  },
  {
   "cell_type": "code",
   "execution_count": null,
   "id": "96ec5094-3738-4d09-a5a6-8dcff2f03d68",
   "metadata": {},
   "outputs": [],
   "source": []
  }
 ],
 "metadata": {
  "kernelspec": {
   "display_name": "Python 3 (ipykernel)",
   "language": "python",
   "name": "python3"
  },
  "language_info": {
   "codemirror_mode": {
    "name": "ipython",
    "version": 3
   },
   "file_extension": ".py",
   "mimetype": "text/x-python",
   "name": "python",
   "nbconvert_exporter": "python",
   "pygments_lexer": "ipython3",
   "version": "3.9.21"
  }
 },
 "nbformat": 4,
 "nbformat_minor": 5
}
